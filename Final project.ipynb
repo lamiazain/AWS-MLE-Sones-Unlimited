{
 "cells": [
  {
   "cell_type": "markdown",
   "metadata": {},
   "source": [
    "# Deploy and monitor a machine learning workflow for Image Classification"
   ]
  },
  {
   "cell_type": "markdown",
   "metadata": {},
   "source": [
    "## Setting up this notebook\n",
    "\n",
    "Notes about the instance size and kernel setup: this notebook has been tested on\n",
    "\n",
    "1. The `Python 3 (Data Science)` kernel\n",
    "2. The `ml.t3.medium` Sagemaker notebook instance\n",
    "\n",
    "## Data Staging\n",
    "\n",
    "We'll use a sample dataset called CIFAR to simulate the challenges Scones Unlimited are facing in Image Classification. In order to start working with CIFAR we'll need to:\n",
    "\n",
    "1. Extract the data from a hosting service\n",
    "2. Transform it into a usable shape and format\n",
    "3. Load it into a production system\n",
    "\n",
    "In other words, we're going to do some simple ETL!\n",
    "\n",
    "### 1. Extract the data from the hosting service\n",
    "\n",
    "In the cell below, define a function `extract_cifar_data` that extracts python version of the CIFAR-100 dataset. The CIFAR dataaset is open source and generously hosted by the University of Toronto at: https://www.cs.toronto.edu/~kriz/cifar-100-python.tar.gz "
   ]
  },
  {
   "cell_type": "code",
   "execution_count": 163,
   "metadata": {},
   "outputs": [],
   "source": [
    "import requests\n",
    "\n",
    "def extract_cifar_data(url, filename=\"cifar.tar.gz\"):\n",
    "    \"\"\"A function for extracting the CIFAR-100 dataset and storing it as a gzipped file\n",
    "    \n",
    "    Arguments:\n",
    "    url      -- the URL where the dataset is hosted\n",
    "    filename -- the full path where the dataset will be written\n",
    "    \n",
    "    \"\"\"\n",
    "    \n",
    "    # Todo: request the data from the data url\n",
    "    # Hint: use `requests.get` method\n",
    "    r = requests.get(url)\n",
    "    with open(filename, \"wb\") as file_context:\n",
    "        file_context.write(r.content)\n",
    "    return"
   ]
  },
  {
   "cell_type": "markdown",
   "metadata": {},
   "source": [
    "Let's test it out! Run the following cell and check whether a new file `cifar.tar.gz` is created in the file explorer."
   ]
  },
  {
   "cell_type": "code",
   "execution_count": 164,
   "metadata": {},
   "outputs": [],
   "source": [
    "extract_cifar_data(\"https://www.cs.toronto.edu/~kriz/cifar-100-python.tar.gz\")     "
   ]
  },
  {
   "cell_type": "markdown",
   "metadata": {},
   "source": [
    "### 2. Transform the data into a usable shape and format\n",
    "\n",
    "Clearly, distributing the data as a gzipped archive makes sense for the hosting service! It saves on bandwidth, storage, and it's a widely-used archive format. In fact, it's so widely used that the Python community ships a utility for working with them, `tarfile`, as part of its Standard Library. Execute the following cell to decompress your extracted dataset:"
   ]
  },
  {
   "cell_type": "code",
   "execution_count": 165,
   "metadata": {},
   "outputs": [],
   "source": [
    "import tarfile\n",
    "\n",
    "with tarfile.open(\"cifar.tar.gz\", \"r:gz\") as tar:\n",
    "    tar.extractall()"
   ]
  },
  {
   "cell_type": "markdown",
   "metadata": {},
   "source": [
    "A new folder `cifar-100-python` should be created, containing `meta`, `test`, and `train` files. These files are `pickles` and the [CIFAR homepage](https://www.cs.toronto.edu/~kriz/cifar.html) provides a simple script that can be used to load them. We've adapted the script below for you to run:"
   ]
  },
  {
   "cell_type": "code",
   "execution_count": 166,
   "metadata": {},
   "outputs": [],
   "source": [
    "import pickle\n",
    "\n",
    "with open(\"./cifar-100-python/meta\", \"rb\") as f:\n",
    "    dataset_meta = pickle.load(f, encoding='bytes')\n",
    "\n",
    "with open(\"./cifar-100-python/test\", \"rb\") as f:\n",
    "    dataset_test = pickle.load(f, encoding='bytes')\n",
    "\n",
    "with open(\"./cifar-100-python/train\", \"rb\") as f:\n",
    "    dataset_train = pickle.load(f, encoding='bytes')"
   ]
  },
  {
   "cell_type": "code",
   "execution_count": 167,
   "metadata": {},
   "outputs": [
    {
     "name": "stdout",
     "output_type": "stream",
     "text": [
      "50000\n",
      "11\n",
      "19\n",
      "(3072,)\n"
     ]
    }
   ],
   "source": [
    "# Feel free to explore the datasets\n",
    "#rain size =50 000 Inputs are file names \n",
    "#dict_keys([b'filenames', b'batch_label', b'fine_labels', b'coarse_labels', b'data'])\n",
    "#Image array size = 3072\n",
    "print(len(dataset_train[b'coarse_labels']))\n",
    "print(dataset_train[b'coarse_labels'][0])\n",
    "print(dataset_train[b'fine_labels'][0])\n",
    "print(dataset_train[b'data'][1].shape)"
   ]
  },
  {
   "cell_type": "code",
   "execution_count": 168,
   "metadata": {},
   "outputs": [
    {
     "data": {
      "text/plain": [
       "dict_keys([b'filenames', b'batch_label', b'fine_labels', b'coarse_labels', b'data'])"
      ]
     },
     "execution_count": 168,
     "metadata": {},
     "output_type": "execute_result"
    }
   ],
   "source": [
    "dataset_train.keys()"
   ]
  },
  {
   "cell_type": "markdown",
   "metadata": {},
   "source": [
    "As documented on the homepage, `b'data'` contains rows of 3073 unsigned integers, representing three channels (red, green, and blue) for one 32x32 pixel image per row."
   ]
  },
  {
   "cell_type": "code",
   "execution_count": 169,
   "metadata": {},
   "outputs": [
    {
     "data": {
      "text/plain": [
       "3072"
      ]
     },
     "execution_count": 169,
     "metadata": {},
     "output_type": "execute_result"
    }
   ],
   "source": [
    "32*32*3"
   ]
  },
  {
   "cell_type": "markdown",
   "metadata": {},
   "source": [
    "For a simple gut-check, let's transform one of our images. Each 1024 items in a row is a channel (red, green, then blue). Each 32 items in the channel are a row in the 32x32 image. Using python, we can stack these channels into a 32x32x3 array, and save it as a PNG file:"
   ]
  },
  {
   "cell_type": "code",
   "execution_count": 170,
   "metadata": {},
   "outputs": [],
   "source": [
    "import numpy as np\n",
    "\n",
    "# Each 1024 in a row is a channel (red, green, then blue)\n",
    "row = dataset_train[b'data'][0]\n",
    "red, green, blue = row[0:1024], row[1024:2048], row[2048:]\n",
    "\n",
    "# Each 32 items in the channel are a row in the 32x32 image\n",
    "red = red.reshape(32,32)\n",
    "green = green.reshape(32,32)\n",
    "blue = blue.reshape(32,32)\n",
    "\n",
    "# Combine the channels into a 32x32x3 image!\n",
    "combined = np.dstack((red,green,blue))"
   ]
  },
  {
   "cell_type": "markdown",
   "metadata": {},
   "source": [
    "For a more concise version, consider the following:"
   ]
  },
  {
   "cell_type": "code",
   "execution_count": 171,
   "metadata": {},
   "outputs": [],
   "source": [
    "# All in one:\n",
    "test_image = np.dstack((\n",
    "    row[0:1024].reshape(32,32),\n",
    "    row[1024:2048].reshape(32,32),\n",
    "    row[2048:].reshape(32,32)\n",
    "))"
   ]
  },
  {
   "cell_type": "code",
   "execution_count": 172,
   "metadata": {},
   "outputs": [
    {
     "data": {
      "image/png": "[encoded data removed]",
      "text/plain": [
       "<Figure size 432x288 with 1 Axes>"
      ]
     },
     "metadata": {},
     "output_type": "display_data"
    }
   ],
   "source": [
    "import matplotlib.pyplot as plt\n",
    "plt.imshow(test_image);"
   ]
  },
  {
   "cell_type": "markdown",
   "metadata": {},
   "source": [
    "Looks like a cow! Let's check the label. `dataset_meta` contains label names in order, and `dataset_train` has a list of labels for each row."
   ]
  },
  {
   "cell_type": "code",
   "execution_count": 173,
   "metadata": {},
   "outputs": [
    {
     "name": "stdout",
     "output_type": "stream",
     "text": [
      "19\n",
      "11\n"
     ]
    }
   ],
   "source": [
    "print(dataset_train[b'fine_labels'][0])\n",
    "print(dataset_train[b'coarse_labels'][0])"
   ]
  },
  {
   "cell_type": "markdown",
   "metadata": {},
   "source": [
    "Our image has a label of `19`, so let's see what the 19th item is in the list of label names."
   ]
  },
  {
   "cell_type": "code",
   "execution_count": 12,
   "metadata": {},
   "outputs": [
    {
     "name": "stdout",
     "output_type": "stream",
     "text": [
      "b'cattle'\n"
     ]
    }
   ],
   "source": [
    "print(dataset_meta[b'fine_label_names'][19])"
   ]
  },
  {
   "cell_type": "markdown",
   "metadata": {},
   "source": [
    "Ok! 'cattle' sounds about right. By the way, using the previous two lines we can do:"
   ]
  },
  {
   "cell_type": "code",
   "execution_count": 13,
   "metadata": {},
   "outputs": [
    {
     "name": "stdout",
     "output_type": "stream",
     "text": [
      "b'cattle'\n"
     ]
    }
   ],
   "source": [
    "n = 0\n",
    "print(dataset_meta[b'fine_label_names'][dataset_train[b'fine_labels'][n]])"
   ]
  },
  {
   "cell_type": "code",
   "execution_count": 14,
   "metadata": {},
   "outputs": [
    {
     "name": "stdout",
     "output_type": "stream",
     "text": [
      "b'large_omnivores_and_herbivores'\n"
     ]
    }
   ],
   "source": [
    "#dataset_meta.keys()\n",
    "print(dataset_meta[b'coarse_label_names'][dataset_train[b'coarse_labels'][n]])"
   ]
  },
  {
   "cell_type": "markdown",
   "metadata": {},
   "source": [
    "Now we know how to check labels, is there a way that we can also check file names? `dataset_train` also contains a `b'filenames'` key. Let's see what we have here:"
   ]
  },
  {
   "cell_type": "code",
   "execution_count": 15,
   "metadata": {},
   "outputs": [
    {
     "name": "stdout",
     "output_type": "stream",
     "text": [
      "b'bos_taurus_s_000507.png'\n"
     ]
    }
   ],
   "source": [
    "print(dataset_train[b'filenames'][0])"
   ]
  },
  {
   "cell_type": "markdown",
   "metadata": {},
   "source": [
    "\"Taurus\" is the name of a subspecies of cattle, so this looks like a pretty reasonable filename. To save an image we can also do:"
   ]
  },
  {
   "cell_type": "code",
   "execution_count": 16,
   "metadata": {},
   "outputs": [],
   "source": [
    "plt.imsave(\"file.png\", test_image)"
   ]
  },
  {
   "cell_type": "code",
   "execution_count": 17,
   "metadata": {},
   "outputs": [
    {
     "data": {
      "text/plain": [
       "(50000, 3072)"
      ]
     },
     "execution_count": 17,
     "metadata": {},
     "output_type": "execute_result"
    }
   ],
   "source": [
    "Data_train = dataset_train[b'data']\n",
    "Data_train.shape"
   ]
  },
  {
   "cell_type": "markdown",
   "metadata": {},
   "source": [
    "Your new PNG file should now appear in the file explorer -- go ahead and pop it open to see!"
   ]
  },
  {
   "cell_type": "markdown",
   "metadata": {},
   "source": [
    "Create a data frame for training and testing datasets for better visualization"
   ]
  },
  {
   "cell_type": "code",
   "execution_count": 18,
   "metadata": {},
   "outputs": [],
   "source": [
    "import pandas as pd\n",
    "\n",
    "# Todo: Filter the dataset_train and dataset_meta objects to find the label numbers for Bicycle and Motorcycles\n",
    "F_names_train = dataset_train[b'filenames']\n",
    "Content_Labels_train = [dataset_meta[b'fine_label_names'][n] for n in dataset_train[b'fine_labels']]\n",
    "Descripe_train = [dataset_meta[b'coarse_label_names'][n] for n in dataset_train[b'coarse_labels']]\n",
    "\n",
    "Train_df=pd.DataFrame({'Image Name':F_names_train,\n",
    "                       'Content Label': Content_Labels_train,\n",
    "                       'fine label':dataset_train[b'fine_labels'],\n",
    "                       'coarse label':dataset_train[b'coarse_labels'],\n",
    "                       'Describtion':Descripe_train\n",
    "                      })\n",
    "\n",
    "F_names_test = dataset_test[b'filenames']\n",
    "Content_Labels_test = [dataset_meta[b'fine_label_names'][n] for n in dataset_test[b'fine_labels']]\n",
    "Descripe_test = [dataset_meta[b'coarse_label_names'][n] for n in dataset_test[b'coarse_labels']]\n",
    "\n",
    "\n",
    "Test_df=pd.DataFrame({'Image Name':F_names_test,\n",
    "                       'Content Label': Content_Labels_test,\n",
    "                       'fine label':dataset_test[b'fine_labels'],\n",
    "                       'coarse label':dataset_test[b'coarse_labels'],\n",
    "                       'Describtion':Descripe_test    \n",
    "})\n"
   ]
  },
  {
   "cell_type": "code",
   "execution_count": 19,
   "metadata": {},
   "outputs": [
    {
     "data": {
      "text/html": [
       "<div>\n",
       "<style scoped>\n",
       "    .dataframe tbody tr th:only-of-type {\n",
       "        vertical-align: middle;\n",
       "    }\n",
       "\n",
       "    .dataframe tbody tr th {\n",
       "        vertical-align: top;\n",
       "    }\n",
       "\n",
       "    .dataframe thead th {\n",
       "        text-align: right;\n",
       "    }\n",
       "</style>\n",
       "<table border=\"1\" class=\"dataframe\">\n",
       "  <thead>\n",
       "    <tr style=\"text-align: right;\">\n",
       "      <th></th>\n",
       "      <th>Image Name</th>\n",
       "      <th>Content Label</th>\n",
       "      <th>fine label</th>\n",
       "      <th>coarse label</th>\n",
       "      <th>Describtion</th>\n",
       "    </tr>\n",
       "  </thead>\n",
       "  <tbody>\n",
       "    <tr>\n",
       "      <th>0</th>\n",
       "      <td>b'bos_taurus_s_000507.png'</td>\n",
       "      <td>b'cattle'</td>\n",
       "      <td>19</td>\n",
       "      <td>11</td>\n",
       "      <td>b'large_omnivores_and_herbivores'</td>\n",
       "    </tr>\n",
       "    <tr>\n",
       "      <th>1</th>\n",
       "      <td>b'stegosaurus_s_000125.png'</td>\n",
       "      <td>b'dinosaur'</td>\n",
       "      <td>29</td>\n",
       "      <td>15</td>\n",
       "      <td>b'reptiles'</td>\n",
       "    </tr>\n",
       "    <tr>\n",
       "      <th>2</th>\n",
       "      <td>b'mcintosh_s_000643.png'</td>\n",
       "      <td>b'apple'</td>\n",
       "      <td>0</td>\n",
       "      <td>4</td>\n",
       "      <td>b'fruit_and_vegetables'</td>\n",
       "    </tr>\n",
       "    <tr>\n",
       "      <th>3</th>\n",
       "      <td>b'altar_boy_s_001435.png'</td>\n",
       "      <td>b'boy'</td>\n",
       "      <td>11</td>\n",
       "      <td>14</td>\n",
       "      <td>b'people'</td>\n",
       "    </tr>\n",
       "    <tr>\n",
       "      <th>4</th>\n",
       "      <td>b'cichlid_s_000031.png'</td>\n",
       "      <td>b'aquarium_fish'</td>\n",
       "      <td>1</td>\n",
       "      <td>1</td>\n",
       "      <td>b'fish'</td>\n",
       "    </tr>\n",
       "  </tbody>\n",
       "</table>\n",
       "</div>"
      ],
      "text/plain": [
       "                    Image Name     Content Label  fine label  coarse label  \\\n",
       "0   b'bos_taurus_s_000507.png'         b'cattle'          19            11   \n",
       "1  b'stegosaurus_s_000125.png'       b'dinosaur'          29            15   \n",
       "2     b'mcintosh_s_000643.png'          b'apple'           0             4   \n",
       "3    b'altar_boy_s_001435.png'            b'boy'          11            14   \n",
       "4      b'cichlid_s_000031.png'  b'aquarium_fish'           1             1   \n",
       "\n",
       "                         Describtion  \n",
       "0  b'large_omnivores_and_herbivores'  \n",
       "1                        b'reptiles'  \n",
       "2            b'fruit_and_vegetables'  \n",
       "3                          b'people'  \n",
       "4                            b'fish'  "
      ]
     },
     "execution_count": 19,
     "metadata": {},
     "output_type": "execute_result"
    }
   ],
   "source": [
    "Train_df.head()"
   ]
  },
  {
   "cell_type": "code",
   "execution_count": 20,
   "metadata": {},
   "outputs": [
    {
     "data": {
      "text/plain": [
       "b'cattle'"
      ]
     },
     "execution_count": 20,
     "metadata": {},
     "output_type": "execute_result"
    }
   ],
   "source": [
    "Train_df['Content Label'][0]"
   ]
  },
  {
   "cell_type": "code",
   "execution_count": 21,
   "metadata": {},
   "outputs": [
    {
     "data": {
      "text/html": [
       "<div>\n",
       "<style scoped>\n",
       "    .dataframe tbody tr th:only-of-type {\n",
       "        vertical-align: middle;\n",
       "    }\n",
       "\n",
       "    .dataframe tbody tr th {\n",
       "        vertical-align: top;\n",
       "    }\n",
       "\n",
       "    .dataframe thead th {\n",
       "        text-align: right;\n",
       "    }\n",
       "</style>\n",
       "<table border=\"1\" class=\"dataframe\">\n",
       "  <thead>\n",
       "    <tr style=\"text-align: right;\">\n",
       "      <th></th>\n",
       "      <th>Image Name</th>\n",
       "      <th>Content Label</th>\n",
       "      <th>fine label</th>\n",
       "      <th>coarse label</th>\n",
       "      <th>Describtion</th>\n",
       "    </tr>\n",
       "  </thead>\n",
       "  <tbody>\n",
       "    <tr>\n",
       "      <th>0</th>\n",
       "      <td>b'volcano_s_000012.png'</td>\n",
       "      <td>b'mountain'</td>\n",
       "      <td>49</td>\n",
       "      <td>10</td>\n",
       "      <td>b'large_natural_outdoor_scenes'</td>\n",
       "    </tr>\n",
       "    <tr>\n",
       "      <th>1</th>\n",
       "      <td>b'woods_s_000412.png'</td>\n",
       "      <td>b'forest'</td>\n",
       "      <td>33</td>\n",
       "      <td>10</td>\n",
       "      <td>b'large_natural_outdoor_scenes'</td>\n",
       "    </tr>\n",
       "    <tr>\n",
       "      <th>2</th>\n",
       "      <td>b'seal_s_001803.png'</td>\n",
       "      <td>b'seal'</td>\n",
       "      <td>72</td>\n",
       "      <td>0</td>\n",
       "      <td>b'aquatic_mammals'</td>\n",
       "    </tr>\n",
       "    <tr>\n",
       "      <th>3</th>\n",
       "      <td>b'mushroom_s_001755.png'</td>\n",
       "      <td>b'mushroom'</td>\n",
       "      <td>51</td>\n",
       "      <td>4</td>\n",
       "      <td>b'fruit_and_vegetables'</td>\n",
       "    </tr>\n",
       "    <tr>\n",
       "      <th>4</th>\n",
       "      <td>b'adriatic_sea_s_000653.png'</td>\n",
       "      <td>b'sea'</td>\n",
       "      <td>71</td>\n",
       "      <td>10</td>\n",
       "      <td>b'large_natural_outdoor_scenes'</td>\n",
       "    </tr>\n",
       "  </tbody>\n",
       "</table>\n",
       "</div>"
      ],
      "text/plain": [
       "                     Image Name Content Label  fine label  coarse label  \\\n",
       "0       b'volcano_s_000012.png'   b'mountain'          49            10   \n",
       "1         b'woods_s_000412.png'     b'forest'          33            10   \n",
       "2          b'seal_s_001803.png'       b'seal'          72             0   \n",
       "3      b'mushroom_s_001755.png'   b'mushroom'          51             4   \n",
       "4  b'adriatic_sea_s_000653.png'        b'sea'          71            10   \n",
       "\n",
       "                       Describtion  \n",
       "0  b'large_natural_outdoor_scenes'  \n",
       "1  b'large_natural_outdoor_scenes'  \n",
       "2               b'aquatic_mammals'  \n",
       "3          b'fruit_and_vegetables'  \n",
       "4  b'large_natural_outdoor_scenes'  "
      ]
     },
     "execution_count": 21,
     "metadata": {},
     "output_type": "execute_result"
    }
   ],
   "source": [
    "Test_df.head()"
   ]
  },
  {
   "cell_type": "markdown",
   "metadata": {},
   "source": [
    "\n",
    "Now that you know how to reshape the images, save them as files, and capture their filenames and labels, let's just capture all the bicycles and motorcycles and save them. Scones Unlimited can use a model that tells these apart to route delivery drivers automatically.\n",
    "\n"
   ]
  },
  {
   "cell_type": "raw",
   "metadata": {},
   "source": [
    "#this code will save all Images\n",
    "i=1\n",
    "for array_1D in dataset_train[b'data'] hile True:\n",
    "    img=np.dstack((array_1D[0:1024].reshape(32,32),\n",
    "                   array_1D[1024:2048].reshape(32,32),\n",
    "                   array_1D[2048:].reshape(32,32)\n",
    "                  ))\n",
    "    plt.imsave(\"Im{}.png\".format(i), img)\n",
    "    i+=1"
   ]
  },
  {
   "cell_type": "code",
   "execution_count": 22,
   "metadata": {},
   "outputs": [
    {
     "data": {
      "text/plain": [
       "array([b'cattle', b'dinosaur', b'apple', b'boy', b'aquarium_fish',\n",
       "       b'telephone', b'train', b'cup', b'cloud', b'elephant', b'keyboard',\n",
       "       b'willow_tree', b'sunflower', b'castle', b'sea', b'bicycle',\n",
       "       b'wolf', b'squirrel', b'shrew', b'pine_tree', b'rose',\n",
       "       b'television', b'table', b'possum', b'oak_tree', b'leopard',\n",
       "       b'maple_tree', b'rabbit', b'chimpanzee', b'clock', b'streetcar',\n",
       "       b'cockroach', b'snake', b'lobster', b'mountain', b'palm_tree',\n",
       "       b'skyscraper', b'tractor', b'shark', b'butterfly', b'bottle',\n",
       "       b'bee', b'chair', b'woman', b'hamster', b'otter', b'seal', b'lion',\n",
       "       b'mushroom', b'girl', b'sweet_pepper', b'forest', b'crocodile',\n",
       "       b'orange', b'tulip', b'mouse', b'camel', b'caterpillar', b'man',\n",
       "       b'skunk', b'kangaroo', b'raccoon', b'snail', b'rocket', b'whale',\n",
       "       b'worm', b'turtle', b'beaver', b'plate', b'wardrobe', b'road',\n",
       "       b'fox', b'flatfish', b'tiger', b'ray', b'dolphin', b'poppy',\n",
       "       b'porcupine', b'lamp', b'crab', b'motorcycle', b'spider', b'tank',\n",
       "       b'orchid', b'lizard', b'beetle', b'bridge', b'baby', b'lawn_mower',\n",
       "       b'house', b'bus', b'couch', b'bowl', b'pear', b'bed', b'plain',\n",
       "       b'trout', b'bear', b'pickup_truck', b'can'], dtype=object)"
      ]
     },
     "execution_count": 22,
     "metadata": {},
     "output_type": "execute_result"
    }
   ],
   "source": [
    "#state all available strings in 'Content Label' column\n",
    "pd.unique(Train_df['Content Label'])\n"
   ]
  },
  {
   "cell_type": "markdown",
   "metadata": {},
   "source": [
    "In the following cell, identify the label numbers for Bicycles and Motorcycles:\n",
    "    "
   ]
  },
  {
   "cell_type": "raw",
   "metadata": {},
   "source": [
    "#this function saves all images of motorcycle and bicycle of training dataset\n",
    "Counter=1\n",
    "for i in range(len(Train_df)):\n",
    "    if Train_df['Content Label'][i]== b'motorcycle' or Train_df['Content Label'][i]==b'bicycle':\n",
    "        array_1D = dataset_train[b'data'][i]\n",
    "        img=np.dstack((array_1D[0:1024].reshape(32,32),\n",
    "                   array_1D[1024:2048].reshape(32,32),\n",
    "                   array_1D[2048:].reshape(32,32)\n",
    "                  ))\n",
    "        Counter=Counter+1\n",
    "        plt.imsave(\"Im{}.png\".format(i), img)\n",
    "        print(\"Image Contains\" , Train_df['Content Label'][i] , \"Fine Label is\" , Train_df['fine label'][i])\n",
    "print(Counter)    "
   ]
  },
  {
   "cell_type": "markdown",
   "metadata": {},
   "source": [
    "Good job! We only need objects with label 8 and 48 -- this drastically simplifies our handling of the data! Below we construct a dataframe for you, and you can safely drop the rows that don't contain observations about bicycles and motorcycles. Fill in the missing lines below to drop all other rows:"
   ]
  },
  {
   "cell_type": "code",
   "execution_count": 23,
   "metadata": {},
   "outputs": [
    {
     "data": {
      "text/html": [
       "<div>\n",
       "<style scoped>\n",
       "    .dataframe tbody tr th:only-of-type {\n",
       "        vertical-align: middle;\n",
       "    }\n",
       "\n",
       "    .dataframe tbody tr th {\n",
       "        vertical-align: top;\n",
       "    }\n",
       "\n",
       "    .dataframe thead th {\n",
       "        text-align: right;\n",
       "    }\n",
       "</style>\n",
       "<table border=\"1\" class=\"dataframe\">\n",
       "  <thead>\n",
       "    <tr style=\"text-align: right;\">\n",
       "      <th></th>\n",
       "      <th>Image Name</th>\n",
       "      <th>Content Label</th>\n",
       "      <th>fine label</th>\n",
       "      <th>coarse label</th>\n",
       "      <th>Describtion</th>\n",
       "    </tr>\n",
       "  </thead>\n",
       "  <tbody>\n",
       "    <tr>\n",
       "      <th>16</th>\n",
       "      <td>b'bike_s_000682.png'</td>\n",
       "      <td>b'bicycle'</td>\n",
       "      <td>8</td>\n",
       "      <td>18</td>\n",
       "      <td>b'vehicles_1'</td>\n",
       "    </tr>\n",
       "    <tr>\n",
       "      <th>30</th>\n",
       "      <td>b'bike_s_000127.png'</td>\n",
       "      <td>b'bicycle'</td>\n",
       "      <td>8</td>\n",
       "      <td>18</td>\n",
       "      <td>b'vehicles_1'</td>\n",
       "    </tr>\n",
       "    <tr>\n",
       "      <th>130</th>\n",
       "      <td>b'cycle_s_002598.png'</td>\n",
       "      <td>b'bicycle'</td>\n",
       "      <td>8</td>\n",
       "      <td>18</td>\n",
       "      <td>b'vehicles_1'</td>\n",
       "    </tr>\n",
       "    <tr>\n",
       "      <th>152</th>\n",
       "      <td>b'minibike_s_000824.png'</td>\n",
       "      <td>b'motorcycle'</td>\n",
       "      <td>48</td>\n",
       "      <td>18</td>\n",
       "      <td>b'vehicles_1'</td>\n",
       "    </tr>\n",
       "    <tr>\n",
       "      <th>195</th>\n",
       "      <td>b'motorcycle_s_001856.png'</td>\n",
       "      <td>b'motorcycle'</td>\n",
       "      <td>48</td>\n",
       "      <td>18</td>\n",
       "      <td>b'vehicles_1'</td>\n",
       "    </tr>\n",
       "  </tbody>\n",
       "</table>\n",
       "</div>"
      ],
      "text/plain": [
       "                     Image Name  Content Label  fine label  coarse label  \\\n",
       "16         b'bike_s_000682.png'     b'bicycle'           8            18   \n",
       "30         b'bike_s_000127.png'     b'bicycle'           8            18   \n",
       "130       b'cycle_s_002598.png'     b'bicycle'           8            18   \n",
       "152    b'minibike_s_000824.png'  b'motorcycle'          48            18   \n",
       "195  b'motorcycle_s_001856.png'  b'motorcycle'          48            18   \n",
       "\n",
       "       Describtion  \n",
       "16   b'vehicles_1'  \n",
       "30   b'vehicles_1'  \n",
       "130  b'vehicles_1'  \n",
       "152  b'vehicles_1'  \n",
       "195  b'vehicles_1'  "
      ]
     },
     "execution_count": 23,
     "metadata": {},
     "output_type": "execute_result"
    }
   ],
   "source": [
    "#Can be done this way\n",
    "N=Train_df[(Train_df['Content Label']  == b'motorcycle') | (Train_df['Content Label']  == b'bicycle')]\n",
    "N.head()"
   ]
  },
  {
   "cell_type": "code",
   "execution_count": 24,
   "metadata": {},
   "outputs": [
    {
     "data": {
      "text/html": [
       "<div>\n",
       "<style scoped>\n",
       "    .dataframe tbody tr th:only-of-type {\n",
       "        vertical-align: middle;\n",
       "    }\n",
       "\n",
       "    .dataframe tbody tr th {\n",
       "        vertical-align: top;\n",
       "    }\n",
       "\n",
       "    .dataframe thead th {\n",
       "        text-align: right;\n",
       "    }\n",
       "</style>\n",
       "<table border=\"1\" class=\"dataframe\">\n",
       "  <thead>\n",
       "    <tr style=\"text-align: right;\">\n",
       "      <th></th>\n",
       "      <th>Image Name</th>\n",
       "      <th>Content Label</th>\n",
       "      <th>fine label</th>\n",
       "      <th>coarse label</th>\n",
       "      <th>Describtion</th>\n",
       "    </tr>\n",
       "  </thead>\n",
       "  <tbody>\n",
       "    <tr>\n",
       "      <th>27</th>\n",
       "      <td>b'safety_bike_s_000390.png'</td>\n",
       "      <td>b'bicycle'</td>\n",
       "      <td>8</td>\n",
       "      <td>18</td>\n",
       "      <td>b'vehicles_1'</td>\n",
       "    </tr>\n",
       "    <tr>\n",
       "      <th>28</th>\n",
       "      <td>b'bike_s_000658.png'</td>\n",
       "      <td>b'bicycle'</td>\n",
       "      <td>8</td>\n",
       "      <td>18</td>\n",
       "      <td>b'vehicles_1'</td>\n",
       "    </tr>\n",
       "    <tr>\n",
       "      <th>116</th>\n",
       "      <td>b'velocipede_s_001744.png'</td>\n",
       "      <td>b'bicycle'</td>\n",
       "      <td>8</td>\n",
       "      <td>18</td>\n",
       "      <td>b'vehicles_1'</td>\n",
       "    </tr>\n",
       "    <tr>\n",
       "      <th>161</th>\n",
       "      <td>b'bike_s_000643.png'</td>\n",
       "      <td>b'bicycle'</td>\n",
       "      <td>8</td>\n",
       "      <td>18</td>\n",
       "      <td>b'vehicles_1'</td>\n",
       "    </tr>\n",
       "    <tr>\n",
       "      <th>319</th>\n",
       "      <td>b'ordinary_bicycle_s_000437.png'</td>\n",
       "      <td>b'bicycle'</td>\n",
       "      <td>8</td>\n",
       "      <td>18</td>\n",
       "      <td>b'vehicles_1'</td>\n",
       "    </tr>\n",
       "  </tbody>\n",
       "</table>\n",
       "</div>"
      ],
      "text/plain": [
       "                           Image Name Content Label  fine label  coarse label  \\\n",
       "27        b'safety_bike_s_000390.png'    b'bicycle'           8            18   \n",
       "28               b'bike_s_000658.png'    b'bicycle'           8            18   \n",
       "116        b'velocipede_s_001744.png'    b'bicycle'           8            18   \n",
       "161              b'bike_s_000643.png'    b'bicycle'           8            18   \n",
       "319  b'ordinary_bicycle_s_000437.png'    b'bicycle'           8            18   \n",
       "\n",
       "       Describtion  \n",
       "27   b'vehicles_1'  \n",
       "28   b'vehicles_1'  \n",
       "116  b'vehicles_1'  \n",
       "161  b'vehicles_1'  \n",
       "319  b'vehicles_1'  "
      ]
     },
     "execution_count": 24,
     "metadata": {},
     "output_type": "execute_result"
    }
   ],
   "source": [
    "#Or using .loc\n",
    "df_train=Train_df.loc[(Train_df['Content Label']  == b'motorcycle') | (Train_df['Content Label']  == b'bicycle')]\n",
    "#df_train.head()\n",
    "df_test=Test_df.loc[(Test_df['Content Label']  == b'motorcycle') | (Test_df['Content Label']  == b'bicycle')]\n",
    "df_test.head()"
   ]
  },
  {
   "cell_type": "code",
   "execution_count": 25,
   "metadata": {
    "scrolled": true
   },
   "outputs": [],
   "source": [
    "# Decode df_train.filenames so they are regular strings\n",
    "#df_train[\"Image Name\"] = df_train[\"Image Name\"].apply(lambda x: x.decode(\"utf-8\"))\n",
    "#df_test[\"Image Name\"] = df_test[\"Image Name\"].apply(lambda x: x.decode(\"utf-8\"))\n",
    "\n"
   ]
  },
  {
   "cell_type": "code",
   "execution_count": 26,
   "metadata": {},
   "outputs": [
    {
     "data": {
      "text/html": [
       "<div>\n",
       "<style scoped>\n",
       "    .dataframe tbody tr th:only-of-type {\n",
       "        vertical-align: middle;\n",
       "    }\n",
       "\n",
       "    .dataframe tbody tr th {\n",
       "        vertical-align: top;\n",
       "    }\n",
       "\n",
       "    .dataframe thead th {\n",
       "        text-align: right;\n",
       "    }\n",
       "</style>\n",
       "<table border=\"1\" class=\"dataframe\">\n",
       "  <thead>\n",
       "    <tr style=\"text-align: right;\">\n",
       "      <th></th>\n",
       "      <th>Image Name</th>\n",
       "      <th>Content Label</th>\n",
       "      <th>fine label</th>\n",
       "      <th>coarse label</th>\n",
       "      <th>Describtion</th>\n",
       "    </tr>\n",
       "  </thead>\n",
       "  <tbody>\n",
       "    <tr>\n",
       "      <th>27</th>\n",
       "      <td>b'safety_bike_s_000390.png'</td>\n",
       "      <td>b'bicycle'</td>\n",
       "      <td>8</td>\n",
       "      <td>18</td>\n",
       "      <td>b'vehicles_1'</td>\n",
       "    </tr>\n",
       "    <tr>\n",
       "      <th>28</th>\n",
       "      <td>b'bike_s_000658.png'</td>\n",
       "      <td>b'bicycle'</td>\n",
       "      <td>8</td>\n",
       "      <td>18</td>\n",
       "      <td>b'vehicles_1'</td>\n",
       "    </tr>\n",
       "    <tr>\n",
       "      <th>116</th>\n",
       "      <td>b'velocipede_s_001744.png'</td>\n",
       "      <td>b'bicycle'</td>\n",
       "      <td>8</td>\n",
       "      <td>18</td>\n",
       "      <td>b'vehicles_1'</td>\n",
       "    </tr>\n",
       "    <tr>\n",
       "      <th>161</th>\n",
       "      <td>b'bike_s_000643.png'</td>\n",
       "      <td>b'bicycle'</td>\n",
       "      <td>8</td>\n",
       "      <td>18</td>\n",
       "      <td>b'vehicles_1'</td>\n",
       "    </tr>\n",
       "    <tr>\n",
       "      <th>319</th>\n",
       "      <td>b'ordinary_bicycle_s_000437.png'</td>\n",
       "      <td>b'bicycle'</td>\n",
       "      <td>8</td>\n",
       "      <td>18</td>\n",
       "      <td>b'vehicles_1'</td>\n",
       "    </tr>\n",
       "  </tbody>\n",
       "</table>\n",
       "</div>"
      ],
      "text/plain": [
       "                           Image Name Content Label  fine label  coarse label  \\\n",
       "27        b'safety_bike_s_000390.png'    b'bicycle'           8            18   \n",
       "28               b'bike_s_000658.png'    b'bicycle'           8            18   \n",
       "116        b'velocipede_s_001744.png'    b'bicycle'           8            18   \n",
       "161              b'bike_s_000643.png'    b'bicycle'           8            18   \n",
       "319  b'ordinary_bicycle_s_000437.png'    b'bicycle'           8            18   \n",
       "\n",
       "       Describtion  \n",
       "27   b'vehicles_1'  \n",
       "28   b'vehicles_1'  \n",
       "116  b'vehicles_1'  \n",
       "161  b'vehicles_1'  \n",
       "319  b'vehicles_1'  "
      ]
     },
     "execution_count": 26,
     "metadata": {},
     "output_type": "execute_result"
    }
   ],
   "source": [
    "df_test.head()"
   ]
  },
  {
   "cell_type": "markdown",
   "metadata": {},
   "source": [
    "Now that the data is filtered for just our classes, we can save all our images."
   ]
  },
  {
   "cell_type": "code",
   "execution_count": 27,
   "metadata": {},
   "outputs": [
    {
     "name": "stdout",
     "output_type": "stream",
     "text": [
      "mkdir: cannot create directory ‘./train’: File exists\n",
      "mkdir: cannot create directory ‘./test’: File exists\n"
     ]
    }
   ],
   "source": [
    "!mkdir ./train\n",
    "!mkdir ./test"
   ]
  },
  {
   "cell_type": "markdown",
   "metadata": {},
   "source": [
    "In the previous sections we introduced you to several key snippets of code:\n",
    "\n",
    "1. Grabbing the image data:\n",
    "\n",
    "```python\n",
    "dataset_train[b'data'][0]\n",
    "```\n",
    "\n",
    "2. A simple idiom for stacking the image data into the right shape\n",
    "\n",
    "```python\n",
    "import numpy as np\n",
    "np.dstack((\n",
    "    row[0:1024].reshape(32,32),\n",
    "    row[1024:2048].reshape(32,32),\n",
    "    row[2048:].reshape(32,32)\n",
    "))\n",
    "```\n",
    "\n",
    "3. A simple `matplotlib` utility for saving images\n",
    "\n",
    "```python\n",
    "plt.imsave(path+row['filenames'], target)\n",
    "```\n",
    "\n",
    "Compose these together into a function that saves all the images into the `./test` and `./train` directories. Use the comments in the body of the `save_images` function below to guide your construction of the function:\n"
   ]
  },
  {
   "cell_type": "code",
   "execution_count": 26,
   "metadata": {},
   "outputs": [],
   "source": [
    "import os\n",
    "def save_images(name):\n",
    "    #Grab the image data in row-major form\n",
    "     #Change is needed in the following line depending on train or test dataset\n",
    "    array_1D = dataset_test[b'data'][dataset_test[b'filenames'].index(name)]\n",
    "    img = np.dstack((array_1D[0:1024].reshape(32,32),\n",
    "                   array_1D[1024:2048].reshape(32,32),\n",
    "                   array_1D[2048:].reshape(32,32)\n",
    "                  ))\n",
    "    \n",
    "    # Consolidated stacking/reshaping from earlier \n",
    "    target=os.path.join('test', name.decode('utf-8'))       #Change is needed depending on train or test dataset\n",
    "    \n",
    "    # Save the image\n",
    "    plt.imsave(target,img)\n",
    "    \n",
    "    # Return any signal data you want for debugging\n",
    "    return True\n",
    "\n",
    "## TODO: save ALL images using the save_images function\n",
    "for name in df_test['Image Name'] :    #Change is needed depending on train or test dataset\n",
    "    save_images(name)"
   ]
  },
  {
   "cell_type": "markdown",
   "metadata": {},
   "source": [
    "### 3. Load the data\n",
    "\n",
    "Now we can load the data into S3.\n",
    "\n",
    "Using the sagemaker SDK grab the current region, execution role, and bucket."
   ]
  },
  {
   "cell_type": "code",
   "execution_count": 28,
   "metadata": {},
   "outputs": [
    {
     "name": "stdout",
     "output_type": "stream",
     "text": [
      "Default Bucket: sagemaker-us-east-1-777358657826\n",
      "AWS Region: us-east-1\n",
      "RoleArn: arn:aws:iam::777358657826:role/service-role/AmazonSageMakerServiceCatalogProductsUseRole\n"
     ]
    }
   ],
   "source": [
    "import sagemaker\n",
    "import sagemaker.session as session\n",
    "from sagemaker import get_execution_role\n",
    "\n",
    "\n",
    "session= session.Session()\n",
    "bucket= session.default_bucket()\n",
    "print(\"Default Bucket: {}\".format(bucket))\n",
    "\n",
    "region = session.boto_region_name\n",
    "print(\"AWS Region: {}\".format(region))\n",
    "\n",
    "role = get_execution_role()\n",
    "print(\"RoleArn: {}\".format(role))"
   ]
  },
  {
   "cell_type": "markdown",
   "metadata": {},
   "source": [
    "With this data we can easily sync your data up into S3!"
   ]
  },
  {
   "cell_type": "code",
   "execution_count": 29,
   "metadata": {},
   "outputs": [],
   "source": [
    "train=df_train.drop(['Describtion',\"coarse label\",'Content Label'],axis=1)\n",
    "#train.head()\n",
    "train[\"row\"]=range(len(train[\"Image Name\"]))\n"
   ]
  },
  {
   "cell_type": "code",
   "execution_count": 30,
   "metadata": {},
   "outputs": [],
   "source": [
    "test=df_test.drop(['Describtion',\"coarse label\",'Content Label'],axis=1)\n",
    "#train.head()\n",
    "test[\"row\"]=range(len(test[\"Image Name\"]))\n"
   ]
  },
  {
   "cell_type": "code",
   "execution_count": 31,
   "metadata": {},
   "outputs": [],
   "source": [
    "train['Image Name']=train['Image Name'].apply(lambda x: x.decode(\"utf-8\"))\n",
    "test['Image Name']=test['Image Name'].apply(lambda x: x.decode(\"utf-8\"))"
   ]
  },
  {
   "cell_type": "code",
   "execution_count": 32,
   "metadata": {
    "scrolled": true
   },
   "outputs": [
    {
     "data": {
      "text/html": [
       "<div>\n",
       "<style scoped>\n",
       "    .dataframe tbody tr th:only-of-type {\n",
       "        vertical-align: middle;\n",
       "    }\n",
       "\n",
       "    .dataframe tbody tr th {\n",
       "        vertical-align: top;\n",
       "    }\n",
       "\n",
       "    .dataframe thead th {\n",
       "        text-align: right;\n",
       "    }\n",
       "</style>\n",
       "<table border=\"1\" class=\"dataframe\">\n",
       "  <thead>\n",
       "    <tr style=\"text-align: right;\">\n",
       "      <th></th>\n",
       "      <th>Image Name</th>\n",
       "      <th>fine label</th>\n",
       "      <th>row</th>\n",
       "    </tr>\n",
       "  </thead>\n",
       "  <tbody>\n",
       "    <tr>\n",
       "      <th>16</th>\n",
       "      <td>bike_s_000682.png</td>\n",
       "      <td>8</td>\n",
       "      <td>0</td>\n",
       "    </tr>\n",
       "    <tr>\n",
       "      <th>30</th>\n",
       "      <td>bike_s_000127.png</td>\n",
       "      <td>8</td>\n",
       "      <td>1</td>\n",
       "    </tr>\n",
       "    <tr>\n",
       "      <th>130</th>\n",
       "      <td>cycle_s_002598.png</td>\n",
       "      <td>8</td>\n",
       "      <td>2</td>\n",
       "    </tr>\n",
       "    <tr>\n",
       "      <th>152</th>\n",
       "      <td>minibike_s_000824.png</td>\n",
       "      <td>48</td>\n",
       "      <td>3</td>\n",
       "    </tr>\n",
       "    <tr>\n",
       "      <th>195</th>\n",
       "      <td>motorcycle_s_001856.png</td>\n",
       "      <td>48</td>\n",
       "      <td>4</td>\n",
       "    </tr>\n",
       "  </tbody>\n",
       "</table>\n",
       "</div>"
      ],
      "text/plain": [
       "                  Image Name  fine label  row\n",
       "16         bike_s_000682.png           8    0\n",
       "30         bike_s_000127.png           8    1\n",
       "130       cycle_s_002598.png           8    2\n",
       "152    minibike_s_000824.png          48    3\n",
       "195  motorcycle_s_001856.png          48    4"
      ]
     },
     "execution_count": 32,
     "metadata": {},
     "output_type": "execute_result"
    }
   ],
   "source": [
    "train.head()"
   ]
  },
  {
   "cell_type": "code",
   "execution_count": 31,
   "metadata": {},
   "outputs": [],
   "source": [
    "import os\n",
    "\n",
    "#upload train and test images to s3\n",
    "\n",
    "os.environ[\"DEFAULT_S3_BUCKET\"] = bucket\n",
    "!aws s3 sync ./train s3://${DEFAULT_S3_BUCKET}/ProjectUnit2/train\n",
    "!aws s3 sync ./test s3://${DEFAULT_S3_BUCKET}/ProjectUnit2/test/"
   ]
  },
  {
   "cell_type": "markdown",
   "metadata": {},
   "source": [
    "And that's it! You can check the bucket and verify that the items were uploaded.\n",
    "\n",
    "## Model Training\n",
    "\n",
    "For Image Classification, Sagemaker [also expects metadata](https://docs.aws.amazon.com/sagemaker/latest/dg/image-classification.html) e.g. in the form of TSV files with labels and filepaths. We can generate these using our Pandas DataFrames from earlier:"
   ]
  },
  {
   "cell_type": "code",
   "execution_count": 32,
   "metadata": {},
   "outputs": [],
   "source": [
    "def to_metadata_file(df, prefix):\n",
    "    df[\"s3_path\"] = df['Image Name']\n",
    "    df[\"labels\"] = df[\"fine label\"].apply(lambda x: 0 if x==8 else 1)\n",
    "    return df[['row',\"labels\", \"s3_path\"]].to_csv(\n",
    "        f\"{prefix}.lst\", sep=\"\\t\", index=False, header=False\n",
    "    )\n",
    "#save meta data locally as train.lst and test.lst  \n",
    "to_metadata_file(train.copy(), \"train\")\n",
    "to_metadata_file(test.copy(), \"test\")"
   ]
  },
  {
   "cell_type": "markdown",
   "metadata": {},
   "source": [
    "We can also upload our manifest files:"
   ]
  },
  {
   "cell_type": "code",
   "execution_count": 34,
   "metadata": {},
   "outputs": [],
   "source": [
    "import boto3\n",
    "\n",
    "# Upload files to s3 \n",
    "boto3.Session().resource('s3').Bucket(\n",
    "    bucket).Object('ProjectUnit2/train.lst').upload_file('./train.lst')\n",
    "boto3.Session().resource('s3').Bucket(\n",
    "    bucket).Object('ProjectUnit2/test.lst').upload_file('./test.lst')"
   ]
  },
  {
   "cell_type": "markdown",
   "metadata": {},
   "source": [
    "Using the `bucket` and `region` info we can get the latest prebuilt container to run our training job, and define an output location on our s3 bucket for the model. Use the `image_uris` function from the SageMaker SDK to retrieve the latest `image-classification` image below:"
   ]
  },
  {
   "cell_type": "code",
   "execution_count": 35,
   "metadata": {},
   "outputs": [
    {
     "name": "stderr",
     "output_type": "stream",
     "text": [
      "Defaulting to the only supported framework/algorithm version: 1. Ignoring framework/algorithm version: latest.\n"
     ]
    }
   ],
   "source": [
    "# Use the image_uris function to retrieve the latest 'image-classification' image \n",
    "from sagemaker import image_uris\n",
    "\n",
    "algo_image = image_uris.retrieve(\n",
    "    region=boto3.Session().region_name, framework=\"image-classification\",version ='latest'\n",
    ")\n",
    "s3_output_location = f\"s3://{bucket}/models/image_model\""
   ]
  },
  {
   "cell_type": "code",
   "execution_count": 36,
   "metadata": {},
   "outputs": [
    {
     "data": {
      "text/plain": [
       "'811284229777.dkr.ecr.us-east-1.amazonaws.com/image-classification:1'"
      ]
     },
     "execution_count": 36,
     "metadata": {},
     "output_type": "execute_result"
    }
   ],
   "source": [
    "algo_image"
   ]
  },
  {
   "cell_type": "markdown",
   "metadata": {},
   "source": [
    "We're ready to create an estimator! Create an estimator `img_classifier_model` that uses one instance of `ml.p3.2xlarge`. Ensure that y ou use the output location we defined above - we'll be referring to that later!"
   ]
  },
  {
   "cell_type": "code",
   "execution_count": 233,
   "metadata": {},
   "outputs": [],
   "source": [
    "img_classifier_model=sagemaker.estimator.Estimator(\n",
    "    ## TODO: define your estimator options  \n",
    "    role=role,\n",
    "    instance_count=1,\n",
    "    instance_type = 'ml.p3.2xlarge',\n",
    "    input_mode='File',\n",
    "    output_path=s3_output_location,\n",
    "    sagemaker_session=session,\n",
    "    image_uri=algo_image,\n",
    ")"
   ]
  },
  {
   "cell_type": "markdown",
   "metadata": {},
   "source": [
    "We can also set a few key hyperparameters and define the inputs for our model:"
   ]
  },
  {
   "cell_type": "code",
   "execution_count": 234,
   "metadata": {},
   "outputs": [],
   "source": [
    "img_classifier_model.set_hyperparameters(\n",
    "    image_shape = \"3,32,32\", # TODO: Fill in\n",
    "    num_classes=2, # TODO: Fill in\n",
    "    num_training_samples=1000 # TODO: fill in\n",
    ")"
   ]
  },
  {
   "cell_type": "markdown",
   "metadata": {},
   "source": [
    "The `image-classification` image uses four input channels with very specific input parameters. For convenience, we've provided them below:"
   ]
  },
  {
   "cell_type": "code",
   "execution_count": 37,
   "metadata": {},
   "outputs": [],
   "source": [
    "from sagemaker.debugger import Rule, rule_configs\n",
    "from sagemaker.session import TrainingInput\n",
    "model_inputs = {\n",
    "        \"train\": sagemaker.inputs.TrainingInput(\n",
    "            s3_data=f\"s3://{bucket}/ProjectUnit2/train/\",\n",
    "            content_type=\"application/x-image\"\n",
    "        ),\n",
    "        \"validation\": sagemaker.inputs.TrainingInput(\n",
    "            s3_data=f\"s3://{bucket}/ProjectUnit2/test/\",\n",
    "            content_type=\"application/x-image\"\n",
    "        ),\n",
    "        \"train_lst\": sagemaker.inputs.TrainingInput(\n",
    "            s3_data=f\"s3://{bucket}/ProjectUnit2/train.lst\",\n",
    "            content_type=\"application/x-image\"\n",
    "        ),\n",
    "        \"validation_lst\": sagemaker.inputs.TrainingInput(\n",
    "            s3_data=f\"s3://{bucket}/ProjectUnit2/test.lst\",\n",
    "            content_type=\"application/x-image\"\n",
    "        )\n",
    "}"
   ]
  },
  {
   "cell_type": "markdown",
   "metadata": {},
   "source": [
    "Great, now we can train the model using the model_inputs. In the cell below, call the `fit` method on our model,:"
   ]
  },
  {
   "cell_type": "code",
   "execution_count": 236,
   "metadata": {},
   "outputs": [
    {
     "name": "stdout",
     "output_type": "stream",
     "text": [
      "2022-11-22 22:27:23 Starting - Starting the training job...\n",
      "2022-11-22 22:27:47 Starting - Preparing the instances for trainingProfilerReport-1669156043: InProgress\n",
      ".........\n",
      "2022-11-22 22:29:18 Downloading - Downloading input data\n",
      "2022-11-22 22:29:18 Training - Downloading the training image..................\n",
      "2022-11-22 22:32:20 Training - Training image download completed. Training in progress..\u001b[34mDocker entrypoint called with argument(s): train\u001b[0m\n",
      "\u001b[34m[11/22/2022 22:32:26 INFO 139996921927488] Reading default configuration from /opt/amazon/lib/python3.7/site-packages/image_classification/default-input.json: {'use_pretrained_model': 0, 'num_layers': 152, 'epochs': 30, 'learning_rate': 0.1, 'lr_scheduler_factor': 0.1, 'optimizer': 'sgd', 'momentum': 0, 'weight_decay': 0.0001, 'beta_1': 0.9, 'beta_2': 0.999, 'eps': 1e-08, 'gamma': 0.9, 'mini_batch_size': 32, 'image_shape': '3,224,224', 'precision_dtype': 'float32'}\u001b[0m\n",
      "\u001b[34m[11/22/2022 22:32:26 INFO 139996921927488] Merging with provided configuration from /opt/ml/input/config/hyperparameters.json: {'image_shape': '3,32,32', 'num_classes': '2', 'num_training_samples': '1000'}\u001b[0m\n",
      "\u001b[34m[11/22/2022 22:32:26 INFO 139996921927488] Final configuration: {'use_pretrained_model': 0, 'num_layers': 152, 'epochs': 30, 'learning_rate': 0.1, 'lr_scheduler_factor': 0.1, 'optimizer': 'sgd', 'momentum': 0, 'weight_decay': 0.0001, 'beta_1': 0.9, 'beta_2': 0.999, 'eps': 1e-08, 'gamma': 0.9, 'mini_batch_size': 32, 'image_shape': '3,32,32', 'precision_dtype': 'float32', 'num_classes': '2', 'num_training_samples': '1000'}\u001b[0m\n",
      "\u001b[34m[11/22/2022 22:32:26 INFO 139996921927488] Searching for .lst files in /opt/ml/input/data/train_lst.\u001b[0m\n",
      "\u001b[34m[11/22/2022 22:32:26 INFO 139996921927488] Creating record files for train.lst\u001b[0m\n",
      "\u001b[34m[11/22/2022 22:32:26 INFO 139996921927488] Done creating record files...\u001b[0m\n",
      "\u001b[34m[11/22/2022 22:32:26 INFO 139996921927488] Searching for .lst files in /opt/ml/input/data/validation_lst.\u001b[0m\n",
      "\u001b[34m[11/22/2022 22:32:26 INFO 139996921927488] Creating record files for test.lst\u001b[0m\n",
      "\u001b[34m[11/22/2022 22:32:26 INFO 139996921927488] Done creating record files...\u001b[0m\n",
      "\u001b[34m[11/22/2022 22:32:26 INFO 139996921927488] use_pretrained_model: 0\u001b[0m\n",
      "\u001b[34m[11/22/2022 22:32:26 INFO 139996921927488] multi_label: 0\u001b[0m\n",
      "\u001b[34m[11/22/2022 22:32:26 INFO 139996921927488] Performing random weight initialization\u001b[0m\n",
      "\u001b[34m[11/22/2022 22:32:26 INFO 139996921927488] ---- Parameters ----\u001b[0m\n",
      "\u001b[34m[11/22/2022 22:32:26 INFO 139996921927488] num_layers: 152\u001b[0m\n",
      "\u001b[34m[11/22/2022 22:32:26 INFO 139996921927488] data type: <class 'numpy.float32'>\u001b[0m\n",
      "\u001b[34m[11/22/2022 22:32:26 INFO 139996921927488] epochs: 30\u001b[0m\n",
      "\u001b[34m[11/22/2022 22:32:26 INFO 139996921927488] optimizer: sgd\u001b[0m\n",
      "\u001b[34m[11/22/2022 22:32:26 INFO 139996921927488] momentum: 0.9\u001b[0m\n",
      "\u001b[34m[11/22/2022 22:32:26 INFO 139996921927488] weight_decay: 0.0001\u001b[0m\n",
      "\u001b[34m[11/22/2022 22:32:26 INFO 139996921927488] learning_rate: 0.1\u001b[0m\n",
      "\u001b[34m[11/22/2022 22:32:26 INFO 139996921927488] num_training_samples: 1000\u001b[0m\n",
      "\u001b[34m[11/22/2022 22:32:26 INFO 139996921927488] mini_batch_size: 32\u001b[0m\n",
      "\u001b[34m[11/22/2022 22:32:26 INFO 139996921927488] image_shape: 3,32,32\u001b[0m\n",
      "\u001b[34m[11/22/2022 22:32:26 INFO 139996921927488] num_classes: 2\u001b[0m\n",
      "\u001b[34m[11/22/2022 22:32:26 INFO 139996921927488] augmentation_type: None\u001b[0m\n",
      "\u001b[34m[11/22/2022 22:32:26 INFO 139996921927488] kv_store: device\u001b[0m\n",
      "\u001b[34m[11/22/2022 22:32:26 INFO 139996921927488] checkpoint_frequency not set, will store the best model\u001b[0m\n",
      "\u001b[34m[11/22/2022 22:32:26 INFO 139996921927488] --------------------\u001b[0m\n",
      "\u001b[34m[11/22/2022 22:32:26 INFO 139996921927488] Setting number of threads: 7\u001b[0m\n",
      "\u001b[34m[22:32:36] /opt/brazil-pkg-cache/packages/AIAlgorithmsMXNet/AIAlgorithmsMXNet-1.4.x_ecl_Cuda_11.1.x.38.0/AL2_x86_64/generic-flavor/src/src/operator/nn/./cudnn/./cudnn_algoreg-inl.h:97: Running performance tests to find the best convolution algorithm, this can take a while... (setting env variable MXNET_CUDNN_AUTOTUNE_DEFAULT to 0 to disable)\u001b[0m\n",
      "\u001b[34m[11/22/2022 22:32:41 INFO 139996921927488] Epoch[0] Batch [20]#011Speed: 120.655 samples/sec#011accuracy=0.565476\u001b[0m\n",
      "\u001b[34m[11/22/2022 22:32:43 INFO 139996921927488] Epoch[0] Train-accuracy=0.621976\u001b[0m\n",
      "\u001b[34m[11/22/2022 22:32:43 INFO 139996921927488] Epoch[0] Time cost=6.966\u001b[0m\n",
      "\u001b[34m[11/22/2022 22:32:43 INFO 139996921927488] Epoch[0] Validation-accuracy=0.494792\u001b[0m\n",
      "\u001b[34m[11/22/2022 22:32:44 INFO 139996921927488] Storing the best model with validation accuracy: 0.494792\u001b[0m\n",
      "\u001b[34m[11/22/2022 22:32:44 INFO 139996921927488] Saved checkpoint to \"/opt/ml/model/image-classification-0001.params\"\u001b[0m\n",
      "\u001b[34m[11/22/2022 22:32:48 INFO 139996921927488] Epoch[1] Batch [20]#011Speed: 187.012 samples/sec#011accuracy=0.680060\u001b[0m\n",
      "\u001b[34m[11/22/2022 22:32:49 INFO 139996921927488] Epoch[1] Train-accuracy=0.695565\u001b[0m\n",
      "\u001b[34m[11/22/2022 22:32:49 INFO 139996921927488] Epoch[1] Time cost=5.096\u001b[0m\n",
      "\u001b[34m[11/22/2022 22:32:50 INFO 139996921927488] Epoch[1] Validation-accuracy=0.708333\u001b[0m\n",
      "\u001b[34m[11/22/2022 22:32:50 INFO 139996921927488] Storing the best model with validation accuracy: 0.708333\u001b[0m\n",
      "\u001b[34m[11/22/2022 22:32:50 INFO 139996921927488] Saved checkpoint to \"/opt/ml/model/image-classification-0002.params\"\u001b[0m\n",
      "\u001b[34m[11/22/2022 22:32:54 INFO 139996921927488] Epoch[2] Batch [20]#011Speed: 187.778 samples/sec#011accuracy=0.729167\u001b[0m\n",
      "\u001b[34m[11/22/2022 22:32:55 INFO 139996921927488] Epoch[2] Train-accuracy=0.738911\u001b[0m\n",
      "\u001b[34m[11/22/2022 22:32:55 INFO 139996921927488] Epoch[2] Time cost=5.080\u001b[0m\n",
      "\u001b[34m[11/22/2022 22:32:56 INFO 139996921927488] Epoch[2] Validation-accuracy=0.812500\u001b[0m\n",
      "\u001b[34m[11/22/2022 22:32:56 INFO 139996921927488] Storing the best model with validation accuracy: 0.812500\u001b[0m\n",
      "\u001b[34m[11/22/2022 22:32:57 INFO 139996921927488] Saved checkpoint to \"/opt/ml/model/image-classification-0003.params\"\u001b[0m\n",
      "\u001b[34m[11/22/2022 22:33:00 INFO 139996921927488] Epoch[3] Batch [20]#011Speed: 186.820 samples/sec#011accuracy=0.758929\u001b[0m\n",
      "\u001b[34m[11/22/2022 22:33:02 INFO 139996921927488] Epoch[3] Train-accuracy=0.781250\u001b[0m\n",
      "\u001b[34m[11/22/2022 22:33:02 INFO 139996921927488] Epoch[3] Time cost=5.107\u001b[0m\n",
      "\u001b[34m[11/22/2022 22:33:02 INFO 139996921927488] Epoch[3] Validation-accuracy=0.799107\u001b[0m\n",
      "\u001b[34m[11/22/2022 22:33:06 INFO 139996921927488] Epoch[4] Batch [20]#011Speed: 182.254 samples/sec#011accuracy=0.803571\u001b[0m\n",
      "\u001b[34m[11/22/2022 22:33:08 INFO 139996921927488] Epoch[4] Train-accuracy=0.789315\u001b[0m\n",
      "\u001b[34m[11/22/2022 22:33:08 INFO 139996921927488] Epoch[4] Time cost=5.216\u001b[0m\n",
      "\u001b[34m[11/22/2022 22:33:08 INFO 139996921927488] Epoch[4] Validation-accuracy=0.802083\u001b[0m\n",
      "\u001b[34m[11/22/2022 22:33:12 INFO 139996921927488] Epoch[5] Batch [20]#011Speed: 187.885 samples/sec#011accuracy=0.831845\u001b[0m\n",
      "\u001b[34m[11/22/2022 22:33:14 INFO 139996921927488] Epoch[5] Train-accuracy=0.820565\u001b[0m\n",
      "\u001b[34m[11/22/2022 22:33:14 INFO 139996921927488] Epoch[5] Time cost=5.087\u001b[0m\n",
      "\u001b[34m[11/22/2022 22:33:15 INFO 139996921927488] Epoch[5] Validation-accuracy=0.838542\u001b[0m\n",
      "\u001b[34m[11/22/2022 22:33:15 INFO 139996921927488] Storing the best model with validation accuracy: 0.838542\u001b[0m\n",
      "\u001b[34m[11/22/2022 22:33:15 INFO 139996921927488] Saved checkpoint to \"/opt/ml/model/image-classification-0006.params\"\u001b[0m\n",
      "\u001b[34m[11/22/2022 22:33:19 INFO 139996921927488] Epoch[6] Batch [20]#011Speed: 189.455 samples/sec#011accuracy=0.827381\u001b[0m\n",
      "\u001b[34m[11/22/2022 22:33:20 INFO 139996921927488] Epoch[6] Train-accuracy=0.821573\u001b[0m\n",
      "\u001b[34m[11/22/2022 22:33:20 INFO 139996921927488] Epoch[6] Time cost=5.034\u001b[0m\n",
      "\u001b[34m[11/22/2022 22:33:21 INFO 139996921927488] Epoch[6] Validation-accuracy=0.833333\u001b[0m\n",
      "\u001b[34m[11/22/2022 22:33:25 INFO 139996921927488] Epoch[7] Batch [20]#011Speed: 187.807 samples/sec#011accuracy=0.819940\u001b[0m\n",
      "\u001b[34m[11/22/2022 22:33:26 INFO 139996921927488] Epoch[7] Train-accuracy=0.823589\u001b[0m\n",
      "\u001b[34m[11/22/2022 22:33:26 INFO 139996921927488] Epoch[7] Time cost=5.067\u001b[0m\n",
      "\u001b[34m[11/22/2022 22:33:27 INFO 139996921927488] Epoch[7] Validation-accuracy=0.825893\u001b[0m\n",
      "\u001b[34m[11/22/2022 22:33:31 INFO 139996921927488] Epoch[8] Batch [20]#011Speed: 187.983 samples/sec#011accuracy=0.839286\u001b[0m\n",
      "\u001b[34m[11/22/2022 22:33:32 INFO 139996921927488] Epoch[8] Train-accuracy=0.848790\u001b[0m\n",
      "\u001b[34m[11/22/2022 22:33:32 INFO 139996921927488] Epoch[8] Time cost=5.066\u001b[0m\n",
      "\u001b[34m[11/22/2022 22:33:33 INFO 139996921927488] Epoch[8] Validation-accuracy=0.828125\u001b[0m\n",
      "\u001b[34m[11/22/2022 22:33:37 INFO 139996921927488] Epoch[9] Batch [20]#011Speed: 189.957 samples/sec#011accuracy=0.834821\u001b[0m\n",
      "\u001b[34m[11/22/2022 22:33:38 INFO 139996921927488] Epoch[9] Train-accuracy=0.837702\u001b[0m\n",
      "\u001b[34m[11/22/2022 22:33:38 INFO 139996921927488] Epoch[9] Time cost=5.039\u001b[0m\n",
      "\u001b[34m[11/22/2022 22:33:39 INFO 139996921927488] Epoch[9] Validation-accuracy=0.859375\u001b[0m\n",
      "\u001b[34m[11/22/2022 22:33:39 INFO 139996921927488] Storing the best model with validation accuracy: 0.859375\u001b[0m\n",
      "\u001b[34m[11/22/2022 22:33:40 INFO 139996921927488] Saved checkpoint to \"/opt/ml/model/image-classification-0010.params\"\u001b[0m\n",
      "\u001b[34m[11/22/2022 22:33:43 INFO 139996921927488] Epoch[10] Batch [20]#011Speed: 190.070 samples/sec#011accuracy=0.849702\u001b[0m\n",
      "\u001b[34m[11/22/2022 22:33:45 INFO 139996921927488] Epoch[10] Train-accuracy=0.847782\u001b[0m\n",
      "\u001b[34m[11/22/2022 22:33:45 INFO 139996921927488] Epoch[10] Time cost=5.042\u001b[0m\n",
      "\u001b[34m[11/22/2022 22:33:45 INFO 139996921927488] Epoch[10] Validation-accuracy=0.776042\u001b[0m\n",
      "\u001b[34m[11/22/2022 22:33:49 INFO 139996921927488] Epoch[11] Batch [20]#011Speed: 188.023 samples/sec#011accuracy=0.852679\u001b[0m\n",
      "\u001b[34m[11/22/2022 22:33:51 INFO 139996921927488] Epoch[11] Train-accuracy=0.849798\u001b[0m\n",
      "\u001b[34m[11/22/2022 22:33:51 INFO 139996921927488] Epoch[11] Time cost=5.107\u001b[0m\n",
      "\u001b[34m[11/22/2022 22:33:51 INFO 139996921927488] Epoch[11] Validation-accuracy=0.839286\u001b[0m\n",
      "\u001b[34m[11/22/2022 22:33:55 INFO 139996921927488] Epoch[12] Batch [20]#011Speed: 187.078 samples/sec#011accuracy=0.892857\u001b[0m\n",
      "\u001b[34m[11/22/2022 22:33:57 INFO 139996921927488] Epoch[12] Train-accuracy=0.883065\u001b[0m\n",
      "\u001b[34m[11/22/2022 22:33:57 INFO 139996921927488] Epoch[12] Time cost=5.087\u001b[0m\n",
      "\u001b[34m[11/22/2022 22:33:57 INFO 139996921927488] Epoch[12] Validation-accuracy=0.812500\u001b[0m\n",
      "\u001b[34m[11/22/2022 22:34:01 INFO 139996921927488] Epoch[13] Batch [20]#011Speed: 188.760 samples/sec#011accuracy=0.873512\u001b[0m\n",
      "\u001b[34m[11/22/2022 22:34:03 INFO 139996921927488] Epoch[13] Train-accuracy=0.884073\u001b[0m\n",
      "\u001b[34m[11/22/2022 22:34:03 INFO 139996921927488] Epoch[13] Time cost=5.084\u001b[0m\n",
      "\u001b[34m[11/22/2022 22:34:03 INFO 139996921927488] Epoch[13] Validation-accuracy=0.854167\u001b[0m\n",
      "\u001b[34m[11/22/2022 22:34:07 INFO 139996921927488] Epoch[14] Batch [20]#011Speed: 182.930 samples/sec#011accuracy=0.918155\u001b[0m\n",
      "\u001b[34m[11/22/2022 22:34:09 INFO 139996921927488] Epoch[14] Train-accuracy=0.903226\u001b[0m\n",
      "\u001b[34m[11/22/2022 22:34:09 INFO 139996921927488] Epoch[14] Time cost=5.215\u001b[0m\n",
      "\u001b[34m[11/22/2022 22:34:10 INFO 139996921927488] Epoch[14] Validation-accuracy=0.812500\u001b[0m\n",
      "\u001b[34m[11/22/2022 22:34:13 INFO 139996921927488] Epoch[15] Batch [20]#011Speed: 186.869 samples/sec#011accuracy=0.906250\u001b[0m\n",
      "\u001b[34m[11/22/2022 22:34:15 INFO 139996921927488] Epoch[15] Train-accuracy=0.907258\u001b[0m\n",
      "\u001b[34m[11/22/2022 22:34:15 INFO 139996921927488] Epoch[15] Time cost=5.094\u001b[0m\n",
      "\u001b[34m[11/22/2022 22:34:16 INFO 139996921927488] Epoch[15] Validation-accuracy=0.843750\u001b[0m\n",
      "\u001b[34m[11/22/2022 22:34:20 INFO 139996921927488] Epoch[16] Batch [20]#011Speed: 189.485 samples/sec#011accuracy=0.928571\u001b[0m\n",
      "\u001b[34m[11/22/2022 22:34:21 INFO 139996921927488] Epoch[16] Train-accuracy=0.923387\u001b[0m\n",
      "\u001b[34m[11/22/2022 22:34:21 INFO 139996921927488] Epoch[16] Time cost=5.065\u001b[0m\n",
      "\u001b[34m[11/22/2022 22:34:22 INFO 139996921927488] Epoch[16] Validation-accuracy=0.817708\u001b[0m\n",
      "\u001b[34m[11/22/2022 22:34:26 INFO 139996921927488] Epoch[17] Batch [20]#011Speed: 188.979 samples/sec#011accuracy=0.958333\u001b[0m\n",
      "\u001b[34m[11/22/2022 22:34:27 INFO 139996921927488] Epoch[17] Train-accuracy=0.954637\u001b[0m\n",
      "\u001b[34m[11/22/2022 22:34:27 INFO 139996921927488] Epoch[17] Time cost=5.039\u001b[0m\n",
      "\u001b[34m[11/22/2022 22:34:28 INFO 139996921927488] Epoch[17] Validation-accuracy=0.822917\u001b[0m\n",
      "\u001b[34m[11/22/2022 22:34:32 INFO 139996921927488] Epoch[18] Batch [20]#011Speed: 188.509 samples/sec#011accuracy=0.927083\u001b[0m\n",
      "\u001b[34m[11/22/2022 22:34:33 INFO 139996921927488] Epoch[18] Train-accuracy=0.932460\u001b[0m\n",
      "\u001b[34m[11/22/2022 22:34:33 INFO 139996921927488] Epoch[18] Time cost=5.070\u001b[0m\n",
      "\u001b[34m[11/22/2022 22:34:34 INFO 139996921927488] Epoch[18] Validation-accuracy=0.843750\u001b[0m\n",
      "\u001b[34m[11/22/2022 22:34:38 INFO 139996921927488] Epoch[19] Batch [20]#011Speed: 189.351 samples/sec#011accuracy=0.944940\u001b[0m\n",
      "\u001b[34m[11/22/2022 22:34:39 INFO 139996921927488] Epoch[19] Train-accuracy=0.944556\u001b[0m\n",
      "\u001b[34m[11/22/2022 22:34:39 INFO 139996921927488] Epoch[19] Time cost=5.057\u001b[0m\n",
      "\u001b[34m[11/22/2022 22:34:40 INFO 139996921927488] Epoch[19] Validation-accuracy=0.808036\u001b[0m\n",
      "\u001b[34m[11/22/2022 22:34:44 INFO 139996921927488] Epoch[20] Batch [20]#011Speed: 189.145 samples/sec#011accuracy=0.940476\u001b[0m\n",
      "\u001b[34m[11/22/2022 22:34:45 INFO 139996921927488] Epoch[20] Train-accuracy=0.945565\u001b[0m\n",
      "\u001b[34m[11/22/2022 22:34:45 INFO 139996921927488] Epoch[20] Time cost=5.040\u001b[0m\n",
      "\u001b[34m[11/22/2022 22:34:46 INFO 139996921927488] Epoch[20] Validation-accuracy=0.848958\u001b[0m\n",
      "\u001b[34m[11/22/2022 22:34:50 INFO 139996921927488] Epoch[21] Batch [20]#011Speed: 188.481 samples/sec#011accuracy=0.959821\u001b[0m\n",
      "\u001b[34m[11/22/2022 22:34:51 INFO 139996921927488] Epoch[21] Train-accuracy=0.962702\u001b[0m\n",
      "\u001b[34m[11/22/2022 22:34:51 INFO 139996921927488] Epoch[21] Time cost=5.085\u001b[0m\n",
      "\u001b[34m[11/22/2022 22:34:52 INFO 139996921927488] Epoch[21] Validation-accuracy=0.854167\u001b[0m\n",
      "\u001b[34m[11/22/2022 22:34:56 INFO 139996921927488] Epoch[22] Batch [20]#011Speed: 190.434 samples/sec#011accuracy=0.974702\u001b[0m\n",
      "\u001b[34m[11/22/2022 22:34:57 INFO 139996921927488] Epoch[22] Train-accuracy=0.961694\u001b[0m\n",
      "\u001b[34m[11/22/2022 22:34:57 INFO 139996921927488] Epoch[22] Time cost=5.001\u001b[0m\n",
      "\u001b[34m[11/22/2022 22:34:58 INFO 139996921927488] Epoch[22] Validation-accuracy=0.812500\u001b[0m\n",
      "\u001b[34m[11/22/2022 22:35:02 INFO 139996921927488] Epoch[23] Batch [20]#011Speed: 186.865 samples/sec#011accuracy=0.961310\u001b[0m\n",
      "\u001b[34m[11/22/2022 22:35:04 INFO 139996921927488] Epoch[23] Train-accuracy=0.955645\u001b[0m\n",
      "\u001b[34m[11/22/2022 22:35:04 INFO 139996921927488] Epoch[23] Time cost=5.114\u001b[0m\n",
      "\u001b[34m[11/22/2022 22:35:04 INFO 139996921927488] Epoch[23] Validation-accuracy=0.821429\u001b[0m\n",
      "\u001b[34m[11/22/2022 22:35:08 INFO 139996921927488] Epoch[24] Batch [20]#011Speed: 184.163 samples/sec#011accuracy=0.967262\u001b[0m\n",
      "\u001b[34m[11/22/2022 22:35:10 INFO 139996921927488] Epoch[24] Train-accuracy=0.967742\u001b[0m\n",
      "\u001b[34m[11/22/2022 22:35:10 INFO 139996921927488] Epoch[24] Time cost=5.124\u001b[0m\n",
      "\u001b[34m[11/22/2022 22:35:10 INFO 139996921927488] Epoch[24] Validation-accuracy=0.828125\u001b[0m\n",
      "\u001b[34m[11/22/2022 22:35:14 INFO 139996921927488] Epoch[25] Batch [20]#011Speed: 189.557 samples/sec#011accuracy=0.970238\u001b[0m\n",
      "\u001b[34m[11/22/2022 22:35:16 INFO 139996921927488] Epoch[25] Train-accuracy=0.972782\u001b[0m\n",
      "\u001b[34m[11/22/2022 22:35:16 INFO 139996921927488] Epoch[25] Time cost=5.043\u001b[0m\n",
      "\u001b[34m[11/22/2022 22:35:16 INFO 139996921927488] Epoch[25] Validation-accuracy=0.859375\u001b[0m\n",
      "\u001b[34m[11/22/2022 22:35:20 INFO 139996921927488] Epoch[26] Batch [20]#011Speed: 189.491 samples/sec#011accuracy=0.962798\u001b[0m\n",
      "\u001b[34m[11/22/2022 22:35:22 INFO 139996921927488] Epoch[26] Train-accuracy=0.970766\u001b[0m\n",
      "\u001b[34m[11/22/2022 22:35:22 INFO 139996921927488] Epoch[26] Time cost=5.070\u001b[0m\n",
      "\u001b[34m[11/22/2022 22:35:22 INFO 139996921927488] Epoch[26] Validation-accuracy=0.828125\u001b[0m\n",
      "\u001b[34m[11/22/2022 22:35:26 INFO 139996921927488] Epoch[27] Batch [20]#011Speed: 189.847 samples/sec#011accuracy=0.991071\u001b[0m\n",
      "\u001b[34m[11/22/2022 22:35:28 INFO 139996921927488] Epoch[27] Train-accuracy=0.984879\u001b[0m\n",
      "\u001b[34m[11/22/2022 22:35:28 INFO 139996921927488] Epoch[27] Time cost=5.017\u001b[0m\n",
      "\u001b[34m[11/22/2022 22:35:28 INFO 139996921927488] Epoch[27] Validation-accuracy=0.812500\u001b[0m\n",
      "\u001b[34m[11/22/2022 22:35:32 INFO 139996921927488] Epoch[28] Batch [20]#011Speed: 184.544 samples/sec#011accuracy=0.976190\u001b[0m\n",
      "\u001b[34m[11/22/2022 22:35:34 INFO 139996921927488] Epoch[28] Train-accuracy=0.973790\u001b[0m\n",
      "\u001b[34m[11/22/2022 22:35:34 INFO 139996921927488] Epoch[28] Time cost=5.124\u001b[0m\n",
      "\u001b[34m[11/22/2022 22:35:34 INFO 139996921927488] Epoch[28] Validation-accuracy=0.833333\u001b[0m\n",
      "\u001b[34m[11/22/2022 22:35:38 INFO 139996921927488] Epoch[29] Batch [20]#011Speed: 187.391 samples/sec#011accuracy=0.989583\u001b[0m\n",
      "\u001b[34m[11/22/2022 22:35:40 INFO 139996921927488] Epoch[29] Train-accuracy=0.984879\u001b[0m\n",
      "\u001b[34m[11/22/2022 22:35:40 INFO 139996921927488] Epoch[29] Time cost=5.116\u001b[0m\n",
      "\u001b[34m[11/22/2022 22:35:40 INFO 139996921927488] Epoch[29] Validation-accuracy=0.828125\u001b[0m\n",
      "\n",
      "2022-11-22 22:36:09 Uploading - Uploading generated training model\n",
      "2022-11-22 22:36:32 Completed - Training job completed\n",
      "Training seconds: 448\n",
      "Billable seconds: 448\n"
     ]
    }
   ],
   "source": [
    "## TODO: train your model\n",
    "img_classifier_model.fit(model_inputs)"
   ]
  },
  {
   "cell_type": "code",
   "execution_count": 37,
   "metadata": {},
   "outputs": [],
   "source": [
    "#Use pretrained model , no need to train again\n",
    "img_classifier_model=sagemaker.model.Model(\n",
    "    image_uri = algo_image,\n",
    "    model_data = 's3://sagemaker-us-east-1-777358657826/models/image_model/image-classification-2022-11-22-22-27-23-350/output/model.tar.gz',\n",
    "    role = role,\n",
    "    sagemaker_session=session\n",
    "    \n",
    ")"
   ]
  },
  {
   "cell_type": "markdown",
   "metadata": {},
   "source": [
    "If all goes well, you'll end up with a model topping out above `.8` validation accuracy. With only 1000 training samples in the CIFAR dataset, that's pretty good. We could definitely pursue data augmentation & gathering more samples to help us improve further, but for now let's proceed to deploy our model.\n",
    "\n",
    "### Getting ready to deploy\n",
    "\n",
    "To begin with, let's configure Model Monitor to track our deployment. We'll define a `DataCaptureConfig` below:"
   ]
  },
  {
   "cell_type": "code",
   "execution_count": 38,
   "metadata": {},
   "outputs": [],
   "source": [
    "from sagemaker.model_monitor import DataCaptureConfig\n",
    "\n",
    "data_capture_config = DataCaptureConfig(\n",
    "    ## TODO: Set config options\n",
    "    enable_capture=True,\n",
    "    sampling_percentage=100,\n",
    "    destination_s3_uri = f\"s3://{bucket}/data_capture_PROJECT\"\n",
    ")\n"
   ]
  },
  {
   "cell_type": "markdown",
   "metadata": {},
   "source": [
    "Note the `destination_s3_uri` parameter: At the end of the project, we can explore the `data_capture` directory in S3 to find crucial data about the inputs and outputs Model Monitor has observed on our model endpoint over time.\n",
    "\n",
    "With that done, deploy your model on a single `ml.m5.xlarge` instance with the data capture config attached:"
   ]
  },
  {
   "cell_type": "code",
   "execution_count": 40,
   "metadata": {},
   "outputs": [
    {
     "name": "stdout",
     "output_type": "stream",
     "text": [
      "----------!"
     ]
    }
   ],
   "source": [
    "deployment = img_classifier_model.deploy(\n",
    "    ## TODO: fill in deployment options\n",
    "    initial_instance_count=1,\n",
    "    instance_type='ml.m5.xlarge',\n",
    "    data_capture_config=data_capture_config\n",
    "    )\n",
    "\n",
    "#endpoint = deployment.endpoint_name\n",
    "#print(endpoint)"
   ]
  },
  {
   "cell_type": "code",
   "execution_count": 41,
   "metadata": {},
   "outputs": [],
   "source": [
    "#From aws console\n",
    "endpoint='image-classification-2022-11-25-00-24-07-438'"
   ]
  },
  {
   "cell_type": "markdown",
   "metadata": {},
   "source": [
    "Note the endpoint name for later as well.\n",
    "\n",
    "Next, instantiate a Predictor:"
   ]
  },
  {
   "cell_type": "code",
   "execution_count": 189,
   "metadata": {},
   "outputs": [],
   "source": [
    "predictor = sagemaker.predictor.Predictor(endpoint_name=endpoint, sagemaker_session=session)"
   ]
  },
  {
   "cell_type": "markdown",
   "metadata": {},
   "source": [
    "In the code snippet below we are going to prepare one of your saved images for prediction. Use the predictor to process the `payload`."
   ]
  },
  {
   "cell_type": "code",
   "execution_count": 191,
   "metadata": {},
   "outputs": [],
   "source": [
    "from sagemaker.serializers import IdentitySerializer\n",
    "import base64\n",
    "\n",
    "predictor.serializer = IdentitySerializer(\"image/png\")\n",
    "with open(\"./test/bicycle_s_001789.png\", \"rb\") as f:\n",
    "    payload = f.read()\n",
    "    #print(payload)\n"
   ]
  },
  {
   "cell_type": "code",
   "execution_count": 44,
   "metadata": {},
   "outputs": [],
   "source": [
    "inference = predictor.predict(payload)## TODO: Process the payload with your predictor"
   ]
  },
  {
   "cell_type": "markdown",
   "metadata": {},
   "source": [
    "Your `inference` object is an array of two values, the predicted probability value for each of your classes (bicycle and motorcycle respectively.) So, for example, a value of `b'[0.91, 0.09]'` indicates the probability of being a bike is 91% and being a motorcycle is 9%."
   ]
  },
  {
   "cell_type": "code",
   "execution_count": 45,
   "metadata": {},
   "outputs": [
    {
     "name": "stdout",
     "output_type": "stream",
     "text": [
      "b'[0.9634263515472412, 0.0365736149251461]'\n"
     ]
    }
   ],
   "source": [
    "print(inference)"
   ]
  },
  {
   "cell_type": "markdown",
   "metadata": {},
   "source": [
    "### Draft Lambdas and Step Function Workflow\n",
    "\n",
    "Your operations team uses Step Functions to orchestrate serverless workflows. One of the nice things about Step Functions is that [workflows can call other workflows](https://docs.aws.amazon.com/step-functions/latest/dg/connect-stepfunctions.html), so the team can easily plug your workflow into the broader production architecture for Scones Unlimited.\n",
    "\n",
    "In this next stage you're going to write and deploy three Lambda functions, and then use the Step Functions visual editor to chain them together! Our functions are going to work with a simple data object:\n",
    "\n",
    "```python\n",
    "{\n",
    "    \"inferences\": [], # Output of predictor.predict\n",
    "    \"s3_key\": \"\", # Source data S3 key\n",
    "    \"s3_bucket\": \"\", # Source data S3 bucket\n",
    "    \"image_data\": \"\"  # base64 encoded string containing the image data\n",
    "}\n",
    "```\n",
    "\n",
    "A good test object that you can use for Lambda tests and Step Function executions, throughout the next section, might look like this:\n",
    "\n",
    "```python\n",
    "{\n",
    "  \"image_data\": \"\",\n",
    "  \"s3_bucket\": MY_BUCKET_NAME, # Fill in with your bucket\n",
    "  \"s3_key\": \"test/bicycle_s_000513.png\"\n",
    "}\n",
    "```\n",
    "\n",
    "Using these fields, your functions can read and write the necessary data to execute your workflow. Let's start with the first function. Your first Lambda function will copy an object from S3, base64 encode it, and then return it to the step function as `image_data` in an event.\n",
    "\n",
    "Go to the Lambda dashboard and create a new Lambda function with a descriptive name like \"serializeImageData\" and select thr 'Python 3.8' runtime. Add the same permissions as the SageMaker role you created earlier. (Reminder: you do this in the Configuration tab under \"Permissions\"). Once you're ready, use the starter code below to craft your Lambda handler:\n",
    "\n",
    "```python\n",
    "import json\n",
    "import boto3\n",
    "import base64\n",
    "\n",
    "s3 = boto3.client('s3')\n",
    "\n",
    "def lambda_handler(event, context):\n",
    "    \"\"\"A function to serialize target data from S3\"\"\"\n",
    "    \n",
    "    # Get the s3 address from the Step Function event input\n",
    "    key = ## TODO: fill in\n",
    "    bucket = ## TODO: fill in\n",
    "    \n",
    "    # Download the data from s3 to /tmp/image.png\n",
    "    ## TODO: fill in\n",
    "    \n",
    "    # We read the data from a file\n",
    "    with open(\"/tmp/image.png\", \"rb\") as f:\n",
    "        image_data = base64.b64encode(f.read())\n",
    "\n",
    "    # Pass the data back to the Step Function\n",
    "    print(\"Event:\", event.keys())\n",
    "    return {\n",
    "        'statusCode': 200,\n",
    "        'body': {\n",
    "            \"image_data\": image_data,\n",
    "            \"s3_bucket\": bucket,\n",
    "            \"s3_key\": key,\n",
    "            \"inferences\": []\n",
    "        }\n",
    "    }\n",
    "```\n",
    "\n",
    "The next function is responsible for the classification part - we're going to take the image output from the previous function, decode it, and then pass inferences back to the the Step Function.\n",
    "\n",
    "Because this Lambda will have runtime dependencies (i.e. the SageMaker SDK) you'll need to package them in your function. *Key reading:* https://docs.aws.amazon.com/lambda/latest/dg/python-package-create.html#python-package-create-with-dependency\n",
    "\n",
    "Create a new Lambda function with the same rights and a descriptive name, then fill in the starter code below for your classifier Lambda.\n",
    "\n",
    "```python\n",
    "import json\n",
    "import sagemaker\n",
    "import base64\n",
    "from sagemaker.serializers import IdentitySerializer\n",
    "\n",
    "# Fill this in with the name of your deployed model\n",
    "ENDPOINT = ## TODO: fill in\n",
    "\n",
    "def lambda_handler(event, context):\n",
    "\n",
    "    # Decode the image data\n",
    "    image = base64.b64decode(## TODO: fill in)\n",
    "\n",
    "    # Instantiate a Predictor\n",
    "    predictor = ## TODO: fill in\n",
    "\n",
    "    # For this model the IdentitySerializer needs to be \"image/png\"\n",
    "    predictor.serializer = IdentitySerializer(\"image/png\")\n",
    "    \n",
    "    # Make a prediction:\n",
    "    inferences = ## TODO: fill in\n",
    "    \n",
    "    # We return the data back to the Step Function    \n",
    "    event[\"inferences\"] = inferences.decode('utf-8')\n",
    "    return {\n",
    "        'statusCode': 200,\n",
    "        'body': json.dumps(event)\n",
    "    }\n",
    "```\n",
    "\n",
    "Finally, we need to filter low-confidence inferences. Define a threshold between 1.00 and 0.000 for your model: what is reasonble for you? If the model predicts at `.70` for it's highest confidence label, do we want to pass that inference along to downstream systems? Make one last Lambda function and tee up the same permissions:\n",
    "\n",
    "```python\n",
    "import json\n",
    "\n",
    "\n",
    "THRESHOLD = .93\n",
    "\n",
    "\n",
    "def lambda_handler(event, context):\n",
    "    \n",
    "    # Grab the inferences from the event\n",
    "    inferences = ## TODO: fill in\n",
    "    \n",
    "    # Check if any values in our inferences are above THRESHOLD\n",
    "    meets_threshold = ## TODO: fill in\n",
    "    \n",
    "    # If our threshold is met, pass our data back out of the\n",
    "    # Step Function, else, end the Step Function with an error\n",
    "    if meets_threshold:\n",
    "        pass\n",
    "    else:\n",
    "        raise(\"THRESHOLD_CONFIDENCE_NOT_MET\")\n",
    "\n",
    "    return {\n",
    "        'statusCode': 200,\n",
    "        'body': json.dumps(event)\n",
    "    }\n",
    "```\n",
    "Once you have tested the lambda functions, save the code for each lambda function in a python script called 'lambda.py'.\n",
    "\n",
    "With your lambdas in place, you can use the Step Functions visual editor to construct a workflow that chains them together. In the Step Functions console you'll have the option to author a Standard step function *Visually*.\n",
    "\n",
    "When the visual editor opens, you'll have many options to add transitions in your workflow. We're going to keep it simple and have just one: to invoke Lambda functions. Add three of them chained together. For each one, you'll be able to select the Lambda functions you just created in the proper order, filter inputs and outputs, and give them descriptive names.\n",
    "\n",
    "Make sure that you:\n",
    "\n",
    "1. Are properly filtering the inputs and outputs of your invokations (e.g. `$.body`)\n",
    "2. Take care to remove the error handling from the last function - it's supposed to \"fail loudly\" for your operations colleagues!\n",
    "\n",
    "Take a screenshot of your working step function in action and export the step function as JSON for your submission package."
   ]
  },
  {
   "cell_type": "markdown",
   "metadata": {},
   "source": [
    "\n",
    "Great! Now you can use the files in `./test` as test files for our workflow. Depending on our threshold, our workflow should reliably pass predictions about images from `./test` on to downstream systems, while erroring out for inferences below our confidence threshold!\n",
    "\n",
    "### Testing and Evaluation\n",
    "\n",
    "Do several step function invokations using data from the `./test` folder. This process should give you confidence that the workflow both *succeeds* AND *fails* as expected. In addition, SageMaker Model Monitor will generate recordings of your data and inferences which we can visualize.\n",
    "\n",
    "Here's a function that can help you generate test inputs for your invokations:"
   ]
  },
  {
   "cell_type": "code",
   "execution_count": 177,
   "metadata": {},
   "outputs": [
    {
     "data": {
      "text/plain": [
       "'{\"image_data\": \"\", \"s3_bucket\": \"sagemaker-us-east-1-777358657826\", \"s3_key\": \"ProjectUnit2/test/velocipede_s_001790.png\"}'"
      ]
     },
     "execution_count": 177,
     "metadata": {},
     "output_type": "execute_result"
    }
   ],
   "source": [
    "import random\n",
    "import boto3\n",
    "import json\n",
    "\n",
    "\n",
    "def generate_test_case():\n",
    "    # Setup s3 in boto3\n",
    "    s3 = boto3.resource('s3')\n",
    "    \n",
    "    # Randomly pick from sfn or test folders in our bucket\n",
    "    objects = s3.Bucket(bucket).objects.filter(Prefix = \"ProjectUnit2/test\")\n",
    "    \n",
    "    \n",
    "    # Grab any random object key from that folder!\n",
    "    obj = random.choice([x.key for x in objects])\n",
    "    \n",
    "    return json.dumps({\n",
    "        \"image_data\": \"\",\n",
    "        \"s3_bucket\": bucket,\n",
    "        \"s3_key\": obj\n",
    "    })\n",
    "generate_test_case()"
   ]
  },
  {
   "cell_type": "markdown",
   "metadata": {},
   "source": [
    "In the Step Function dashboard for your new function, you can create new executions and copy in the generated test cases. Do several executions so that you can generate data you can evaluate and visualize.\n",
    "\n",
    "Once you've done several executions, let's visualize the record of our inferences. Pull in the JSONLines data from your inferences like so:"
   ]
  },
  {
   "cell_type": "code",
   "execution_count": 142,
   "metadata": {},
   "outputs": [],
   "source": [
    "from sagemaker.s3 import S3Downloader\n",
    "\n",
    "# In S3 your data will be saved to a datetime-aware path\n",
    "# Find a path related to a datetime you're interested in\n",
    "data_path = \"s3://sagemaker-us-east-1-777358657826/data_capture_PROJECT/image-classification-2022-11-25-00-24-07-438/AllTraffic/2022/11/25/00/\"\n",
    "## TODO: fill in the path to your captured data\n",
    "\n",
    "S3Downloader.download(data_path, \"captured_data\")\n",
    "\n",
    "# Feel free to repeat this multiple times and pull in more data"
   ]
  },
  {
   "cell_type": "markdown",
   "metadata": {},
   "source": [
    "The data are in JSONLines format, where multiple valid JSON objects are stacked on top of eachother in a single `jsonl` file. We'll import an open-source library, `jsonlines` that was purpose built for parsing this format."
   ]
  },
  {
   "cell_type": "code",
   "execution_count": 143,
   "metadata": {},
   "outputs": [
    {
     "name": "stdout",
     "output_type": "stream",
     "text": [
      "Looking in indexes: https://pypi.org/simple, https://pip.repos.neuron.amazonaws.com\n",
      "Requirement already satisfied: jsonlines in /home/ec2-user/anaconda3/envs/python3/lib/python3.8/site-packages (3.1.0)\n",
      "Requirement already satisfied: attrs>=19.2.0 in /home/ec2-user/anaconda3/envs/python3/lib/python3.8/site-packages (from jsonlines) (21.2.0)\n",
      "\u001b[33mWARNING: You are using pip version 22.0.4; however, version 22.3.1 is available.\n",
      "You should consider upgrading via the '/home/ec2-user/anaconda3/envs/python3/bin/python -m pip install --upgrade pip' command.\u001b[0m\u001b[33m\n",
      "\u001b[0m"
     ]
    }
   ],
   "source": [
    "!pip install jsonlines\n",
    "import jsonlines"
   ]
  },
  {
   "cell_type": "markdown",
   "metadata": {},
   "source": [
    "Now we can extract the data from each of the source files:"
   ]
  },
  {
   "cell_type": "code",
   "execution_count": 145,
   "metadata": {},
   "outputs": [],
   "source": [
    "import os\n",
    "\n",
    "# List the file names we downloaded\n",
    "file_handles = os.listdir(\"./captured_data\")\n",
    "\n",
    "# Dump all the data into an array\n",
    "json_data = []\n",
    "for jsonl in file_handles:\n",
    "    with jsonlines.open(f\"./captured_data/{jsonl}\") as f:\n",
    "        json_data.append(f.read())"
   ]
  },
  {
   "cell_type": "code",
   "execution_count": 146,
   "metadata": {},
   "outputs": [
    {
     "data": {
      "text/plain": [
       "[{'captureData': {'endpointInput': {'observedContentType': 'image/png',\n",
       "    'mode': 'INPUT',\n",
       "    'data': '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',\n",
       "    'encoding': 'BASE64'},\n",
       "   'endpointOutput': {'observedContentType': 'application/json',\n",
       "    'mode': 'OUTPUT',\n",
       "    'data': '[0.7831384539604187, 0.21686159074306488]',\n",
       "    'encoding': 'JSON'}},\n",
       "  'eventMetadata': {'eventId': '5e4deac8-1f1b-40f4-b8c3-cc79e96c72e8',\n",
       "   'inferenceTime': '2022-11-25T00:32:38Z'},\n",
       "  'eventVersion': '0'},\n",
       " {'captureData': {'endpointInput': {'observedContentType': 'image/png',\n",
       "    'mode': 'INPUT',\n",
       "    'data': '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',\n",
       "    'encoding': 'BASE64'},\n",
       "   'endpointOutput': {'observedContentType': 'application/json',\n",
       "    'mode': 'OUTPUT',\n",
       "    'data': '[0.7831384539604187, 0.21686159074306488]',\n",
       "    'encoding': 'JSON'}},\n",
       "  'eventMetadata': {'eventId': 'ff24b8f8-6ef2-4f76-85f1-f51104133a50',\n",
       "   'inferenceTime': '2022-11-25T00:58:13Z'},\n",
       "  'eventVersion': '0'},\n",
       " {'captureData': {'endpointInput': {'observedContentType': 'image/png',\n",
       "    'mode': 'INPUT',\n",
       "    'data': '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',\n",
       "    'encoding': 'BASE64'},\n",
       "   'endpointOutput': {'observedContentType': 'application/json',\n",
       "    'mode': 'OUTPUT',\n",
       "    'data': '[0.7831384539604187, 0.21686159074306488]',\n",
       "    'encoding': 'JSON'}},\n",
       "  'eventMetadata': {'eventId': '0b83a3a3-d1fc-474d-9498-3982a23583fd',\n",
       "   'inferenceTime': '2022-11-25T00:42:35Z'},\n",
       "  'eventVersion': '0'},\n",
       " {'captureData': {'endpointInput': {'observedContentType': 'image/png',\n",
       "    'mode': 'INPUT',\n",
       "    'data': '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',\n",
       "    'encoding': 'BASE64'},\n",
       "   'endpointOutput': {'observedContentType': 'application/json',\n",
       "    'mode': 'OUTPUT',\n",
       "    'data': '[0.7831384539604187, 0.21686159074306488]',\n",
       "    'encoding': 'JSON'}},\n",
       "  'eventMetadata': {'eventId': 'e1910732-fd8d-47d0-9068-1518d88b4a60',\n",
       "   'inferenceTime': '2022-11-25T00:59:57Z'},\n",
       "  'eventVersion': '0'},\n",
       " {'captureData': {'endpointInput': {'observedContentType': 'image/png',\n",
       "    'mode': 'INPUT',\n",
       "    'data': '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',\n",
       "    'encoding': 'BASE64'},\n",
       "   'endpointOutput': {'observedContentType': 'application/json',\n",
       "    'mode': 'OUTPUT',\n",
       "    'data': '[0.9634264707565308, 0.036573611199855804]',\n",
       "    'encoding': 'JSON'}},\n",
       "  'eventMetadata': {'eventId': '37e19590-b6bd-42e8-851d-d22a0cb5591c',\n",
       "   'inferenceTime': '2022-11-22T22:51:03Z'},\n",
       "  'eventVersion': '0'},\n",
       " {'captureData': {'endpointInput': {'observedContentType': 'image/png',\n",
       "    'mode': 'INPUT',\n",
       "    'data': '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',\n",
       "    'encoding': 'BASE64'},\n",
       "   'endpointOutput': {'observedContentType': 'application/json',\n",
       "    'mode': 'OUTPUT',\n",
       "    'data': '[0.7831384539604187, 0.21686159074306488]',\n",
       "    'encoding': 'JSON'}},\n",
       "  'eventMetadata': {'eventId': 'e99ed12e-6668-4162-8084-1db6715bbe4d',\n",
       "   'inferenceTime': '2022-11-25T00:44:18Z'},\n",
       "  'eventVersion': '0'},\n",
       " {'captureData': {'endpointInput': {'observedContentType': 'image/png',\n",
       "    'mode': 'INPUT',\n",
       "    'data': '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',\n",
       "    'encoding': 'BASE64'},\n",
       "   'endpointOutput': {'observedContentType': 'application/json',\n",
       "    'mode': 'OUTPUT',\n",
       "    'data': '[0.7831384539604187, 0.21686159074306488]',\n",
       "    'encoding': 'JSON'}},\n",
       "  'eventMetadata': {'eventId': '1e3cb458-e51f-4890-ba48-99bc026965d7',\n",
       "   'inferenceTime': '2022-11-25T00:45:31Z'},\n",
       "  'eventVersion': '0'},\n",
       " {'captureData': {'endpointInput': {'observedContentType': 'image/png',\n",
       "    'mode': 'INPUT',\n",
       "    'data': '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',\n",
       "    'encoding': 'BASE64'},\n",
       "   'endpointOutput': {'observedContentType': 'application/json',\n",
       "    'mode': 'OUTPUT',\n",
       "    'data': '[0.7831384539604187, 0.21686159074306488]',\n",
       "    'encoding': 'JSON'}},\n",
       "  'eventMetadata': {'eventId': 'feef57d9-3b74-415c-92d0-2669f5b5980f',\n",
       "   'inferenceTime': '2022-11-25T00:57:09Z'},\n",
       "  'eventVersion': '0'}]"
      ]
     },
     "execution_count": 146,
     "metadata": {},
     "output_type": "execute_result"
    }
   ],
   "source": [
    "json_data"
   ]
  },
  {
   "cell_type": "markdown",
   "metadata": {},
   "source": [
    "The data should now be a list of dictionaries, with significant nesting. We'll give you an example of some code that grabs data out of the objects and visualizes it:"
   ]
  },
  {
   "cell_type": "code",
   "execution_count": 156,
   "metadata": {},
   "outputs": [
    {
     "data": {
      "text/plain": [
       "([0.7831384539604187, 0.21686159074306488], '2022-11-25T00:42:35Z')"
      ]
     },
     "execution_count": 156,
     "metadata": {},
     "output_type": "execute_result"
    }
   ],
   "source": [
    "# Define how we'll get our data\n",
    "def simple_getter(obj):\n",
    "    inferences = obj[\"captureData\"][\"endpointOutput\"][\"data\"]\n",
    "    timestamp = obj[\"eventMetadata\"][\"inferenceTime\"]\n",
    "    return json.loads(inferences), timestamp\n",
    "simple_getter(json_data[2])"
   ]
  },
  {
   "cell_type": "markdown",
   "metadata": {},
   "source": [
    "Finally, here's an example of a visualization you can build with this data. In this last part, you will take some time and build your own - the captured data has the input images, the resulting inferences, and the timestamps."
   ]
  },
  {
   "cell_type": "code",
   "execution_count": 157,
   "metadata": {},
   "outputs": [
    {
     "data": {
      "image/png": "[encoded data removed]",
      "text/plain": [
       "<Figure size 432x288 with 1 Axes>"
      ]
     },
     "metadata": {},
     "output_type": "display_data"
    }
   ],
   "source": [
    "# Populate the data for the x and y axis\n",
    "x = []\n",
    "y = []\n",
    "for obj in json_data:\n",
    "    inference, timestamp = simple_getter(obj)\n",
    "    \n",
    "    y.append(max(inference))\n",
    "    x.append(timestamp)\n",
    "\n",
    "# Todo: here is an visualization example, take some time to build another visual that helps monitor the result\n",
    "# Plot the data\n",
    "plt.scatter(x, y, c=['r' if k<.94 else 'b' for k in y ])\n",
    "plt.axhline(y=0.94, color='g', linestyle='--')\n",
    "plt.ylim(bottom=.88)\n",
    "\n",
    "# Add labels\n",
    "plt.ylabel(\"Confidence\")\n",
    "plt.suptitle(\"Observed Recent Inferences\", size=14)\n",
    "plt.title(\"Pictured with confidence threshold for production use\", size=10)\n",
    "\n",
    "# Give it some pizzaz!\n",
    "plt.style.use(\"Solarize_Light2\")\n",
    "plt.gcf().autofmt_xdate()"
   ]
  },
  {
   "cell_type": "markdown",
   "metadata": {},
   "source": [
    "### Todo: build your own visualization\n"
   ]
  },
  {
   "cell_type": "code",
   "execution_count": 204,
   "metadata": {},
   "outputs": [],
   "source": [
    "import glob\n",
    "test_images=glob.glob('test/*.png')\n",
    "test_images_bytes=[]\n",
    "\n",
    "for img in test_images:\n",
    "    with open(img,'rb') as f:\n",
    "        test_images_bytes.append(f.read())\n",
    "        \n",
    "predictions_bytes=[predictor.predict(img) for img in test_images_bytes]\n",
    "#print(glob.glob('test/*.png'))"
   ]
  },
  {
   "cell_type": "code",
   "execution_count": 214,
   "metadata": {},
   "outputs": [],
   "source": [
    "predictions=[eval(p.decode('utf-8')) for p in predictions_bytes]\n",
    "#len(predictions)  #200"
   ]
  },
  {
   "cell_type": "code",
   "execution_count": 219,
   "metadata": {},
   "outputs": [],
   "source": [
    "Confidences= [max(P) for P in predictions]"
   ]
  },
  {
   "cell_type": "code",
   "execution_count": 221,
   "metadata": {},
   "outputs": [
    {
     "data": {
      "text/plain": [
       "(array([ 5.,  8.,  4.,  5., 13., 18., 19., 22., 20., 86.]),\n",
       " array([0.50281167, 0.5525305 , 0.60224934, 0.65196817, 0.701687  ,\n",
       "        0.75140584, 0.80112467, 0.8508435 , 0.90056233, 0.95028117,\n",
       "        1.        ]),\n",
       " <BarContainer object of 10 artists>)"
      ]
     },
     "execution_count": 221,
     "metadata": {},
     "output_type": "execute_result"
    },
    {
     "data": {
      "image/png": "[encoded data removed]",
      "text/plain": [
       "<Figure size 432x288 with 1 Axes>"
      ]
     },
     "metadata": {},
     "output_type": "display_data"
    }
   ],
   "source": [
    "import matplotlib.pyplot as plt\n",
    "plt.hist(Confidences)"
   ]
  },
  {
   "cell_type": "markdown",
   "metadata": {},
   "source": [
    "It appearss that majority of predictions are generated with high confidences values lying between (0.9 and 1)"
   ]
  },
  {
   "cell_type": "code",
   "execution_count": 175,
   "metadata": {},
   "outputs": [
    {
     "data": {
      "text/plain": [
       "([0.7831384539604187, 0.21686159074306488], '2022-11-25T00:42:35Z')"
      ]
     },
     "execution_count": 175,
     "metadata": {},
     "output_type": "execute_result"
    }
   ],
   "source": [
    "# My Simple Getter:\n",
    "def inf_time_img(obj):\n",
    "    inferences = obj[\"captureData\"][\"endpointOutput\"][\"data\"]\n",
    "    timestamp = obj[\"eventMetadata\"][\"inferenceTime\"]\n",
    "    images = obj[\"captureData\"][\"endpointInput\"][\"data\"]\n",
    "    return json.loads(inferences), timestamp, images\n",
    "\n",
    "simple_getter(json_data[2])"
   ]
  },
  {
   "cell_type": "code",
   "execution_count": 176,
   "metadata": {},
   "outputs": [
    {
     "name": "stdout",
     "output_type": "stream",
     "text": [
      "[0.7831384539604187, 0.21686159074306488]\n",
      "[0.7831384539604187, 0.21686159074306488]\n",
      "[0.7831384539604187, 0.21686159074306488]\n",
      "[0.7831384539604187, 0.21686159074306488]\n",
      "[0.9634264707565308, 0.036573611199855804]\n",
      "[0.7831384539604187, 0.21686159074306488]\n",
      "[0.7831384539604187, 0.21686159074306488]\n",
      "[0.7831384539604187, 0.21686159074306488]\n"
     ]
    }
   ],
   "source": [
    "\n",
    "for obj in json_data:\n",
    "    inference, timestamp, image = inf_time_img(obj)\n",
    "    print(inference)\n",
    "    "
   ]
  },
  {
   "cell_type": "code",
   "execution_count": 174,
   "metadata": {},
   "outputs": [
    {
     "data": {
      "image/png": "[encoded data removed]",
      "text/plain": [
       "<Figure size 1080x720 with 1 Axes>"
      ]
     },
     "metadata": {},
     "output_type": "display_data"
    }
   ],
   "source": [
    "import base64\n",
    "import io\n",
    "from matplotlib import pyplot as plt\n",
    "import matplotlib.image as mpimg\n",
    "\n",
    "\n",
    "# Populate the data for the x and y axis\n",
    "x = []\n",
    "y = []\n",
    "images = []\n",
    "\n",
    "for obj in json_data:\n",
    "    inference, timestamp, image = inf_time_img(obj)\n",
    "    \n",
    "    #Filter for images I checked multiple times:\n",
    "    if image not in images:\n",
    "        y.append(max(inference))\n",
    "        x.append(timestamp)\n",
    "        images.append(image)\n",
    "\n",
    "# Plot the data\n",
    "fig, ax = plt.subplots(figsize=(15,10))\n",
    "ax.scatter(x, y, c=['r' if k<.94 else 'b' for k in y ])\n",
    "ax.axhline(y=0.94, color='g', linestyle='--')\n",
    "plt.ylim(bottom=.50, top=1.1)\n",
    "\n",
    "# Add labels\n",
    "plt.ylabel(\"Confidence\", color='black', size=18)\n",
    "plt.suptitle(\"Observed Failed Inferences\", color='black', size=24)\n",
    "plt.title(\"Pictures inset for reference\", color='black', size=20)\n",
    "\n",
    "# Give it some pizzaz!\n",
    "plt.style.use(\"Solarize_Light2\")\n",
    "plt.gcf().autofmt_xdate()\n",
    "\n",
    "\n",
    "from matplotlib.offsetbox import OffsetImage, AnnotationBbox\n",
    "# Overlay images instead of datapoints\n",
    "\n",
    "for x0, y0, image in zip(x, y, images):\n",
    "    if y0 < 0.94:\n",
    "        # Convert image to usable format:\n",
    "        image = base64.b64decode(image)\n",
    "        image = io.BytesIO(image)\n",
    "        image = mpimg.imread(image, format='PNG')\n",
    "        \n",
    "        # Load image in OffsetImage for AnnotationBbox\n",
    "        im = OffsetImage(image, zoom=2.5)\n",
    "        \n",
    "        # Display image at x,y coords:\n",
    "        ab = AnnotationBbox(im, (x0, y0), frameon=False)\n",
    "        ax.add_artist(ab)\n",
    "\n",
    "plt.savefig('my-visualization.png')"
   ]
  },
  {
   "cell_type": "markdown",
   "metadata": {},
   "source": [
    "### Congratulations!\n",
    "\n",
    "You've reached the end of the project. In this project you created an event-drivent ML workflow that can be incorporated into the Scones Unlimited production architecture. You used the SageMaker Estimator API to deploy your SageMaker Model and Endpoint, and you used AWS Lambda and Step Functions to orchestrate your ML workflow. Using SageMaker Model Monitor, you instrumented and observed your Endpoint, and at the end of the project you built a visualization to help stakeholders understand the performance of the Endpoint over time. If you're up for it, you can even go further with these stretch goals:\n",
    "\n",
    "* Extend your workflow to incorporate more classes: the CIFAR dataset includes other vehicles that Scones Unlimited can identify with this model.\n",
    "* Modify your event driven workflow: can you rewrite your Lambda functions so that the workflow can process multiple image inputs in parallel? Can the Step Function \"fan out\" to accomodate this new workflow?\n",
    "* Consider the test data generator we provided for you. Can we use it to create a \"dummy data\" generator, to simulate a continuous stream of input data? Or a big paralell load of data?\n",
    "* What if we want to get notified every time our step function errors out? Can we use the Step Functions visual editor in conjunction with a service like SNS to accomplish this? Try it out!\n",
    "\n",
    "\n"
   ]
  },
  {
   "cell_type": "markdown",
   "metadata": {},
   "source": [
    "# Tests\n"
   ]
  },
  {
   "cell_type": "markdown",
   "metadata": {},
   "source": [
    "### Dear Mentor, don't worry about this section, I was just debugging :D "
   ]
  },
  {
   "cell_type": "code",
   "execution_count": 79,
   "metadata": {},
   "outputs": [],
   "source": [
    "with open(\"test/bicycle_s_000031.png\", \"rb\") as f:\n",
    "    image_data = base64.b64encode(f.read())"
   ]
  },
  {
   "cell_type": "code",
   "execution_count": 44,
   "metadata": {},
   "outputs": [],
   "source": [
    "x={\n",
    "  \"statusCode\": 200,\n",
    "  \"body\": {\n",
    "    \"image_data\": \"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\",\n",
    "    \"s3_bucket\": \"sagemaker-us-east-1-777358657826\",\n",
    "    \"s3_key\": \"ProjectUnit2/test/bicycle_s_000513.png\",\n",
    "    \"inferences\": []\n",
    "  }\n",
    "}"
   ]
  },
  {
   "cell_type": "code",
   "execution_count": 43,
   "metadata": {},
   "outputs": [],
   "source": [
    "# Fill this in with the name of your deployed model\n",
    "endpoint = 'image-classification-2022-11-25-00-24-07-438'  ## TODO: fill in\n",
    "#session= session.Session()\n",
    "runtime = boto3.Session().client('sagemaker-runtime')"
   ]
  },
  {
   "cell_type": "code",
   "execution_count": 58,
   "metadata": {},
   "outputs": [
    {
     "data": {
      "text/plain": [
       "b'\\x89PNG\\r\\n\\x1a\\n\\x00\\x00\\x00\\rIHDR\\x00\\x00\\x00 \\x00\\x00\\x00 \\x08\\x06\\x00\\x00\\x00szz\\xf4\\x00\\x00\\x009tEXtSoftware\\x00Matplotlib version3.5.0, https://matplotlib.org/?|T*\\x00\\x00\\x00\\tpHYs\\x00\\x00\\x0fa\\x00\\x00\\x0fa\\x01\\xa8?\\xa7i\\x00\\x00\\n\\x85IDATx\\x9c]\\x97\\xd9\\x93]\\xd5u\\xc6\\x7f{:\\xe7\\xce\\xf7v\\xb7zP\\xab[\\xeaf\\x10\\x089\\x80 \\x14\\x89\\xe3$v\\x0c\\xb1\\x8bP<9\\x8f~\\xcc\\x1f\\x93\\xca\\x9f\\x91\\xcaK*\\xa9\\xe0J\\xe1\\xcad\\x83) \\x80\\x15F\\x01r\\x0b\\xd4j\\xa9\\xa7\\xdb\\x83\\xee|\\xcf=\\xe7\\xec\\xbdW\\x1e\\xae\\x9c\\x87\\xac\\xa7\\xfd\\xb4\\xd7Z\\xfb[\\xeb\\xfb\\xbe\\xad\\xfe\\xee\\x1f>\\x944I\\xb0\\xd6\"*\\xe2\\x15$\\xb56\\xb8*\\x01\\x85x\\x81\"\\'\\x9f\\x9c\\xd1?\\xbf\\x87\\x92\\x00\\xd1\\xd0X~\\x9cP[#!\\xe0\\xac\\xe0\\x01e\\r\\x89v\\x18m(%R\\x02\\x8e\\x02SL\\x18Mf\\xd8J\\x8d\\x88\\xc2\\x07\\x85D\\x01\\x05v4\\xee\\x93;G\\xbd^G\\xa9\\x88\\x17\\xc0V\\xf0\\xd1b\\x10Lv\\xce\\x9d\\xcf?$\\x0c\\xbaX)XZ\\xaa\\xf0\\xcd\\xa77\\xf9\\xf1\\x1b?\\xc77\\xaa\\x9c\\xe5\\x06\\xaf\\x12<\\x11\\x91@\\x91jL\\x99S)\\xa7T\\xc6}\\x86\\x93\\x11\\xa3\\x18\\x99\\x16\\x9e\\xb5K\\x97A[b\\xd0\\x88\\x08\"\\x82\\xad\\xb471ZC:\\x7f\\x05\\xa74h\\x8d\\x0e\\n\\x1f\\x0b\\xbc\\xb64VV\\x19\\x89\\xa2\\x98\\x94\\x8cU\\xca\\xe6K\\x7f\\xc5(\\x94\\xac\\xccn\\xb1\\xd2\\xbc\\xc8\\xa4\\x10\\xa6y\\x86v\\x16\\x13,\\x9dz\\x1d\\xef\\xfb|p\\xf3-\\xc6\\xd2\\xe0\\xda\\x9f\\xfc5\\x17\\xab\\rr/\\xf8(h\\r\"\\x82\\xf7\\x1e\\xeb\\x92\\x1a1\\x06P\\x8e\\x88\\x05\\x01\\x15\"H@\"\\x94\\xaaA\\xe7\\xf2\\r\\x9a\\xeb\\n\\x82\\x80\\x0ed\\xda0\\xc8\\xbb\\xb4\\xe2\\x1e\\xeb\\xea6g\\xe5\"\\xe3\\x99\\xc3f=\\x9c\\xcdY^Y\\xc1\\'\\x1d\\xae\\xdc\\xf8\\x19\\xbe\\xb9\\x84q)y\\x88D \\x88\\xe0\\xc3\\xbc\\x00Q\\x06k\\x8c\\xe0\\xacFk\\x01)\\x11\\x89D\\x81\\x10\\x02\\x88\\xe0\\xb4\\xc2{EYF\\x04A$\\x12\\xac\\xc1\\x98\\x0e\\x85\\xcc\\xc8f\\x87x\\xb7\\xc9\\xb4\\xbe\\x84s9^\\xd78-\\x06\\xd4MAm\\xa1A_\\xa5\\x94\"\\xa0\\x15\\n!\\xfa@\\xc4\\x80\\x9a\\xc3`\\x95R\\x80\\xf0\\xfb\\xf0>\\xe0\\xbdGDPD\\x9cQ(4\\x06\\x08Q@\\x14.\\x80\\xd1)9\\x1d\\x8e\\x07\\xbf\\xa3^\\x7f@\\xae\\xea\\xe4\\xb2\\x84\\xf5\\x06\\xe7r\\xca\\x98A\\xf4\\xa8\\x18\\t\\xbf\\xbf\\\\\\x81R\\x06\\x11\\x00Ak\\x8d\\x05\\x88Q\\x80H\\x8c\\x91\\xb2,\\x891\"\\x02\\xd6\\xa8y!Jp\\xd6\\xa2\\xa2\\xa0\\x0c(\\x02DMa\\x168\\xcb\\xb6h\\x9f\\xee\\xb1\\xba\\xba\\x80IJ\\xa48\\xc1\\x90\\xd0\\x1b\\xd7)M\\x8d\"\\x94\\xa8\\x98\\xcc\\xf3+\\x88A!\\x12\\xff\\xafa+\"\\x8f\\x12\\n\\xe2K|Q \\x121~H\\xcc\\xce\\x08~B,\"\\xe3\\xe1\\x94<\\x8c\\xf06aa\\xf3{\\xa4\\x0b[\\x94\\xd1\\xa1kO1\\xc9\\x02\\xd2\\xdfA\\x0fO\\xb1i\\x87\\xd1\\xf1\\x16^\\xb5\\xc8\\xac\\xa7\\x8c\\x01\\x15J\\x14\\n\\xa55!\\x06D@\\x1b\\x8d\\xd2\\x1akP\\xc4\\x18\\t1b\\xbcG\\x05\\x8d\\xd6\\x10\\xfa]\\xe2\\xfeM:r\\x9f\\xfe\\xc9>{\\xb7O\\xe8\\xcd\\xc6\\xb0v\\x9dg_\\xdb\\xc4\\xb4 \\xc6)\\xc1\\x08\\xa6\\xf3\\x0c\\xb3hi\\xa7-\\xfa\\xb2Ed\\x83\\xd4N\\xb1*\\'U5\\x82\\x99\\xcf\\x8eR\\x82\\xd2\\x82\\xc6\\xa0\\xb5F+\\x85\\xd5\\x02\\x04AB \\x04\\x83\\x8a\\x1a$R\\xado\\xe0V=\\xe5y\\x8f~\\x1c0n.\\xd0x\\xfcU\\xae\\xfd\\xe9k$\\x17\\xb6\\x08h\\xac\\x12\\xa2\\x80\\xc7\\x93\\xda\\x05\\xd6/v(\\x075\\xfaS\\x8bU\\tV\\x1b<\\x16k\\xe1\\x11\\xf0x\\xa5(c\\xc0h\\x85\\xc2cc\\xe1Q!\\xa0\\x83\\x10$ \\x04\\xach\\x94ka/=Ou\\xa3\\x85\\xdax\\x92V\\xd8\\xc6\\xae>G\\xa2-e\\x0cH\\x08D\\x05\\x1a\\x8bXO\\xe1\\xabLG}\\xd6\\xea`\\xf3>&\\x96d\\x1etl\\x11\\x1f\\r\\xb9\\x88\\xa0c\\xc4i\\x993\\xaaR\\xe8P\\x96\\x84\\xc2#!b\\x94\\xc2\\x99\\x02er\\xc4X&\\xdaRT\\x97\\xf9\\xde\\xb5\\x9fpy\\xf51\\xa0D\\x05E\\x1a\\xc1J\\xc0jMU),\\x8a\\x99\\xaf\\x91O\\x15W\\xda9\\xaf\\xbe\\xd4\\xe2\\xd9-\\x8b\\xc4\\x1c#\\x11#`\\x04t\\x14\\xb4\\x80\\x16 F\\x0c\\xa0C\\x0c\\xf8\\xe0\\x11\\x05\\x89\\xb78\\x01e,J\\x1b\\x1c\\x19e\\xa9)\\x024\\xd2\\x9c\\x10#%c\\x8a8AI@\\x87\\x92`\\n\\x82Q\\x945\\xc50\\x9f2\\xfa\\xf4c*\\xf9\\x1d:\\xae\\x87WM\"\\x01b xO\\x0c\\x81\\x18\"\\xd1\\x83\\x8a\\x06-\\x06+>\"!\\x82\\x12\\n]\\x10\\x95C\\x8a&N\\x8f\\xd8\\xae\\xf5q\\x08\\x93\\xe2\\x9czg\\x11;\\xf0D\\xeb\\xd0\\xd1\\x80\\x17\\xacQ4\\xf2\\x19\\xf5\\xc9>\\xd3|J=\\x81\\xc1\\xcd\\xdf\\xf0y|\\xc8\\xc3\\xe5W`f\\xc8\\x93\\x19&$ \\x8a\\xff\\x1f\\xde\\x07l(=\\xc4\\x88xO\\xd4P\\xe0A\\x1ci\\x12\\xf1\\xbe\\x87\\xca\\xbb\\xa4iN\\x9a)\\xd6\\x8bU\\xce\\xcfk4\\'\\xe7\\xb4\\xfa\\x0fHzG\\xc8t@*\\x13\\xa8-S}\\xe2%\\x1ak\\xcbL\\x87}\\x0e*)Zr\\xc8fx5\\x9fz\\x1eQ^x\\xb4\\xf6\\x00V\\xc5\\x80x!\\x18\\x85\\x11E5\\xc9\\xf1\\xba\\xcb,T\\xd8\\xcbj4b\\x93\\xf6\\xfd=\\xf6\\xbf\\xfc\\x00s\\xf1E\\xa6q\\x932U\\xe4\\x8d\\x06\\xb4\\xaeR&\\x1d\\x1a\\xf56\\x83t\\x91\\x86\\x8bL>\\xfc\\x88Kw\\xbe\\xa3\\xfe\\x97cN;\\x1a\\xebS\\n\\x15\\x89\\x12 \\x82\\xa0(\\xa2\\x9f\\xb3\\xa0\\xb5\\xd8\\x10\\xa7 \\x1d\\x94s\\xcc\\xe2\\x01\\x17\\xc7{,\\xae\\x94\\xf8\\xd6ez\\x0f2\\xcci\\xc6\\xfe7]2\\xdb`s\\xa3I4\\xcf\\xd1\\xafU\\x98J\\xc4\\x98\\x05\\x94\\x0e\\x8cKh\\x86\\x1e\\xe9\\xff\\xfc\\'\\xdd\\xfb#\\x96\\xd7\\xdb\\xe8\\x87_\\x91\\r\\x9b\\xe8\\xda\\x15L{m\\xae5\\x00Q\\x81\\x08!\\x84y\\x11\\xa5\\xa4TlN\\xb9\\xff.\\xa3\\xbd\\xf7\\x18\\x9f\\x1fR\\xba\\t\\x97\\x9fx\\x92pw@\\xef C]\\xbeA\\xf5\\xc6\\r\\xc2\\x85\\xcf\\xa9\\x0e\\xa6L\\xa75\\x1c`\\xc8\\x81\\x11\\x99;$9\\xfd\\x9a\\xe3\\xde\\t\\x9d?\\x7f\\x85\\xd1\\xad71\\x1f\\xbc\\xc3\\xc2\\xd5\\r\\x92\\x17j\\x08mF\\x13G\\xa88\\n\\x95\\xa3\\xb1Xm\\xb1\\xda`\\x8dh\\xba{\\xef\\x92\\xef\\xbc\\xc5\\xca\\xc6\\x06v\\xfb\\xfb\\xc8\\xe1\\x01\\xbb\\xff\\xfak.,4\\xa9^\\xbd\\xca\\xae\\xef\\xb0<[\\xe5\\xa2\\x9f\\xd2L\\xbe`2x\\x1c\\xdf\\xef\\x91\\xa9\\x01\\xb1z@\\xe7\\xe1\\xef\\xf8hw\\xcc\\xda\\xd3\\x7f\\xc3EZ\\x0c\\'g\\xec\\x04E-\\x8b\\\\\\xe8\\'\\x8c\\xf2\\xdf!\\xe3u\\xdc\\xcaKd\\xae\\x81\\xb69F\\xcfW\\xd1\\x86\\xd3o\\xe9}\\xf76O<\\xf3\\x1cn\\xe9\\x87\\x94.\\xc7\\x1d<\\xa4Zm\\x91m-\\xf1\\xea\\xcf_\\xe7\\xec_vx\\xeb\\xcd\\xbf\\xa5\\xfd\\xd3\\rV\\x9f<\\xa4\\x1f\\x12\\xbe\\xfe\\xfcWtV\\x8ex\\xecz\\x95\\x8f\\xbf9\\xe1\\xf3\\x8f\\x8eX\\xd8\\xfb{\\xb6\\xbe\\xff\\x17\\xb8\\xe9\\x98/\\x86\\x05\\xe5\\xe1)\\x95w>b\\xfb\\xdaE\\x9e\\xbd\\xf1\\x02\\x93I\\xce\\xcc\\xdd\\x80z\\x93 2\\x17\\xbc\\xc1\\x9d\\x7f\\xe3\\xd2\\xd2:\\xc9\\xd2\\x0fHT\\r\\xf3\\xd5M>y\\xff\\x1d\\x86\\xe3\\x87l\\xc6U\\xee\\xdd\\xdaa\\xbb\\x9dQ\\x9f\\x1e\\xf0\\xcb_|\\xcb+\\xaf\\xbe\\xc2\\x95\\xc5K\\xb4\\x9f\\xacp4J\\xf9\\xd5?\\xdd\\xe5\\xde\\x833\\x92J\\x8b\\xac\\xf7\\x1d_\\xee\\xc0\\x8f\\x8caK_$\\xb9\\xfe\\x18e\\xf7\\x90tP\\xb2\\xb3\\xb3\\xc7\\xf6\\xf6\\x80\\xaa{\\xc0\\xd4\\xbe\\x8eT/\\xa2\\x18`\\xbb\\xf7\\x7f\\xcb\\xf6\\xd3/3\\xeb\\xee\\x93\\x9c\\xdcF\\xdd|\\x87\\x8a\\x1e\\x93\\xd4\\x12\\xd4^\\x9f\\x83\\xce]l5eyy\\x99zgF\\xf7\\xeb\\xbb\\xf4\\xb2c\\xba\\x93;|y0$+,\\xda)2\\x19\\xd2i\\xaeq2\\x9e1\\x9aNYY\\\\\\xe7\\x93\\xb3.\\xdb\\xc3sZ>r\\xd6\\xdebr|\\xc2\\x85\\x85\\x1eo\\xdf>\\x83\\xd6\\xb3(=\\xc0j\\xed\\x19\\x9d\\xdfa\\xf7\\xce\\xd7\\xbcVLY\\x99\\xf4h_\\xdf\\xe0h\\xf7\\x94\\xd8\\xeb\\xd3:9\\xa3\\xacU\\xb9\\xb2T\\xe3\\xc5\\x1f<E\\xef\\x9b\\x11\\xef\\xbf\\xfb5\\xbd\\xe0\\x99\\x15\\x06AP8\\x8cV\\x14\\xf9\\x80\\xc3\\x87SN\\xf2\\x84\\x0b\\xee\\x1c\\x93\\x08E\\x11(\\x11v\\xee\\x9cp<\\x88\\xfc\\xd1\\x13\\x05\\xd5\\xde\\x87\\xfc\\xe2\\xcd\\x7f\\xc6\\x9b\\x88\\xd5D\\xdaKK\\xec=\\xb8\\xcd\\xae\\x9f0(#\\x0fN3\\xa2\\xad2-\\xa7\\xec\\xdd\\xdaa\\x98\\xc1\\xb3/?\\xc7\\xec|\\xc8\\xa7;\\xbb\\xdc\\x1f\\xf7\\x18d\\x81  \\x12\\xf1\\xa2\\x89\\x06\\x86\\xc3s\\x9cir\\xbe\\xf9\\x14/L\\x8e\\x88\\xf5U~#c\\xac\\x85v\\x169\\x1e8\\xbe=\\xc8i\\xabH\\xd3\\n\\xe7>C\\xf7&9\\xcb\\x976q\\x9d%\\xde\\x1a\\x8e\\xf8\\xef\\xd5e>+,7\\x8b\\x9c\\xc1\\xd6\\x1a\\x87\\xb5\\x1a\\xfbQ\\xf8t\\xf7\\x80\\xdb\\xfb\\x13\\xbe\\xd8\\xefqZx\\nm\\x10\\x1d\\xc0\\x82J\\x12\\x82@\\x90\\x80\\x0e\\x91d}\\x11\\xabr\\x96z]\\x8c\\x0bt\\xae4xz3er~\\xc40\\xab\\x90\\xe5\\x96V\\xab\\x81\"E\\xdf;<\\xe5\\xac{\\xca\\xb5k\\x7f\\xc0yH\\xe95\\x96\\x10\\xd3\\xc6\\x93P\\xb5\\x16\\x99\\x8c\\xa8R2<~\\xc0\\xa8;\\xc2\\xd5:x\\xb1\\xf8P\\x10$\\x10\\x8dA\\xa5\\x96\\xa8\\xc1\\x07\\x18\\x8e\\x05\\xf41\\xb7\\x16\\x15GU\\xc3\\xd5\\xedK$\\x9d\\x0e\\xd2^\\x84\\xb4\\xca\\xd9H\\x18\\xf9\\x19\\xaeR \\x85B\\xbd\\xb8z]VW,?}\\xfde\\xbe\\xb8\\xbb\\xcb\\xc1\\xe1\\x90\\xaah\\xd6:)\\xc7\\x07\\xf7\\xe8\\x9dd\\xd4\\\\\\x83\\xa5z\\x15\\x9c\\xe3\\xf6\\xa4\\xcap<\\xa0\\x98Lp:E\\xbb\\n\\x01\\xc1\\x97\\x9eZ\\xad\\x86\\xca\\x14\\xaf\\xbc\\x91\\xd2h\\xb4\\xf9\\xec\\xfd\\x11\\x0b\\x1bKH\\x98;\\xad\\xe3\\xa9\\xc1f\\x03\\x8c\\xec0a\\x8d{\\xfb)vm\\xe5gL\\xb2/\\xf9\\xf5\\xbf\\xbf\\xc7\\xd5\\xebk$\\xcb)\\xd3q\\xc6\\xd1\\xd11G\\xa7\\x82r7\\xc8b\\x15\\x95.\\xd1ZX\\xa4c\\x14\\xf5\\xea\\x80\\xb2\\xe1Q\\xbe\\x89\\xb5\\x15\\x8c\\x99\\x0bM\\x9aVp\\xaa ?\\xfc\\x8c\\xe7\\x7f\\xf2\\x87\\xdc\\xdb;\"\\x965l\\xc5\\x92V\\x1dM\\xe7Yh\\x0c\\xd9\\xbd\\xb7Ks\\xf9:O?\\xf1\\x1cV\\xec\\x05\\xaa\\xd5\\x97\\x99\\xf5\\xdb|\\xf0\\xcb\\x8fQn\\xc6\\xb4\\x84@\\x85Z\\xf52\\x89\\xbeB\\xb05\\xfaE\\xc2d\\x90\\xa2\\x03(j,.\\xb6\\x98\\xf4\\r\\xc6$\\x88\\x04\\x12\\x97\\x90\\xb8\\x84\\xd8\\x84\\xee\\xe9:.6x\\xfa\\x85\\xc7\\xf8\\xe4\\xc3HE\\x12 \\xa0\\xd4\\x98\\xe9\\xe4\\x98qqN\\xddB\\xb3\\xd9\\xc2\\xd6\\xacG0T.<\\xcf\\xd2\\xf25\\x8a\\x983\\x1eO\\x08A0I\\x05m+\\x08jnF&\\xe5\\xdc\\xcd\\xaaEf\\x13A;\\x85\\xa9j\\x04\\xd0J0V0\\x1eLe\\x9d\\xf7\\xdf\\xfb\\x82\\x1f\\xbf\\xf1C\\x1ev\\'\\x1c\\x1c\\x07d\\\\ry\\xd9\\xb0s\\xd2e8\\xabpA-\\x92+\\x8f\\x9d\\xf9\\x82\\xd4\\x1a\\xa2Q\\xf8\\x90R\\x06\\x8bKkP\\x16\\xe4e\\x89\\xc4\\x12\\xe7\\x1c\\xa5\\xf7(\\xa5P\\xc6\\xa2\\xb5\\x9e\\x9f\\x95\"hPJ\\xa3\\x94\\xa1\\x08%\\xa9\\xb1`\\x1a\\xdc\\xdbw\\xfc\\xc7\\x7f\\xbd\\xcd\\x0b\\x7f\\xfc<\\xed\\xa6\\xa5{\\xbfd\\xf8p\\x87\\xfd\\xc3\\xaf\\xa87\\x9f\\xc1UV)K\\xb0\\xa6Q\\xc5\\x97\\x1e\\x88\\x04\\x89\\xa0\\x1f}\\x1c\\xb4B;\\x83XE\\x00\\xc4h\\x8c\\xb5(3\\xef8\\x8a\\xcc\\xb17\\x8a\\x88\\x10`n:\\x94\\xa14B\\xd2\\xbe\\xc6\\xado>\\xe6\\xbb\\x07\\xff\\xc8\\xe6\\xfa\\x16\\xfd\\xf31\\xdf\\xdd\\xfd-\\xa54\\xd8\\xde\\xfe3\\\\\\xb5C\\xc8\"\\xff\\x0b\\xce\\x1d\\xd1\\xf3\\xca4\\xad\\x81\\x00\\x00\\x00\\x00IEND\\xaeB`\\x82'"
      ]
     },
     "execution_count": 58,
     "metadata": {},
     "output_type": "execute_result"
    }
   ],
   "source": [
    "import base64\n",
    "image_data = x['body']['image_data']\n",
    "image = base64.b64decode(image_data)\n",
    "image"
   ]
  },
  {
   "cell_type": "code",
   "execution_count": 60,
   "metadata": {},
   "outputs": [],
   "source": [
    "import json\n",
    "\n",
    "response = runtime.invoke_endpoint(EndpointName = endpoint, ContentType = 'image/png',Body = image)\n",
    "predictions = json.loads(response['Body'].read().decode())"
   ]
  },
  {
   "cell_type": "code",
   "execution_count": 61,
   "metadata": {},
   "outputs": [
    {
     "data": {
      "text/plain": [
       "[0.7831384539604187, 0.21686159074306488]"
      ]
     },
     "execution_count": 61,
     "metadata": {},
     "output_type": "execute_result"
    }
   ],
   "source": [
    "predictions"
   ]
  },
  {
   "cell_type": "code",
   "execution_count": 62,
   "metadata": {},
   "outputs": [],
   "source": [
    "x[\"inferences\"] = predictions"
   ]
  },
  {
   "cell_type": "code",
   "execution_count": 69,
   "metadata": {},
   "outputs": [
    {
     "data": {
      "text/plain": [
       "[0.7831384539604187, 0.21686159074306488]"
      ]
     },
     "execution_count": 69,
     "metadata": {},
     "output_type": "execute_result"
    }
   ],
   "source": [
    "inf=x[\"inferences\"] \n",
    "inf"
   ]
  },
  {
   "cell_type": "code",
   "execution_count": 84,
   "metadata": {},
   "outputs": [
    {
     "data": {
      "text/plain": [
       "[False, False]"
      ]
     },
     "execution_count": 84,
     "metadata": {},
     "output_type": "execute_result"
    }
   ],
   "source": [
    "meets_threshold =[True if x>=0.9 else False for x in inf ]  ## TODO: fill in\n",
    "meets_threshold"
   ]
  },
  {
   "cell_type": "code",
   "execution_count": 107,
   "metadata": {},
   "outputs": [
    {
     "data": {
      "text/plain": [
       "[True, False]"
      ]
     },
     "execution_count": 107,
     "metadata": {},
     "output_type": "execute_result"
    }
   ],
   "source": [
    "meets_threshold =[True if x>=0.7 else False for x in inf ]  ## TODO: fill in\n",
    "meets_threshold"
   ]
  },
  {
   "cell_type": "code",
   "execution_count": 108,
   "metadata": {},
   "outputs": [
    {
     "name": "stdout",
     "output_type": "stream",
     "text": [
      "True\n"
     ]
    }
   ],
   "source": [
    "if any(meets_threshold)==True:\n",
    "    print(\"True\")\n",
    "    pass\n",
    "else:\n",
    "    print(\"False\")\n"
   ]
  },
  {
   "cell_type": "code",
   "execution_count": null,
   "metadata": {},
   "outputs": [],
   "source": []
  }
 ],
 "metadata": {
  "instance_type": "ml.t3.medium",
  "kernelspec": {
   "display_name": "conda_python3",
   "language": "python",
   "name": "conda_python3"
  },
  "language_info": {
   "codemirror_mode": {
    "name": "ipython",
    "version": 3
   },
   "file_extension": ".py",
   "mimetype": "text/x-python",
   "name": "python",
   "nbconvert_exporter": "python",
   "pygments_lexer": "ipython3",
   "version": "3.8.12"
  }
 },
 "nbformat": 4,
 "nbformat_minor": 4
}
